{
  "nbformat": 4,
  "nbformat_minor": 0,
  "metadata": {
    "colab": {
      "provenance": [],
      "include_colab_link": true
    },
    "kernelspec": {
      "name": "python3",
      "display_name": "Python 3"
    },
    "language_info": {
      "name": "python"
    }
  },
  "cells": [
    {
      "cell_type": "markdown",
      "metadata": {
        "id": "view-in-github",
        "colab_type": "text"
      },
      "source": [
        "<a href=\"https://colab.research.google.com/github/ravindranaithani/App_developement/blob/main/21f1002904_NPPE_08_Dec.ipynb\" target=\"_parent\"><img src=\"https://colab.research.google.com/assets/colab-badge.svg\" alt=\"Open In Colab\"/></a>"
      ]
    },
    {
      "cell_type": "code",
      "source": [
        "# @title Student's Details to be filled before the exam starts:{display-mode: \"form\" }\n",
        "\n",
        "Student_Name = \"Ravindra Naithani\" # @param {type:\"string\"}\n",
        "Student_Roll_No = \"21f1002904\" # @param {type:\"string\"}\n"
      ],
      "metadata": {
        "id": "VOK-GOIatpGh"
      },
      "execution_count": null,
      "outputs": []
    },
    {
      "cell_type": "markdown",
      "source": [
        "## Where you have to submit the correct answers\n",
        "- Google Form\n",
        "- Select answers in colab file form-field also\n",
        "\n",
        "**Note:** We will only prioritize **Google Form** responses.\n",
        "\n",
        "- you have to make sure that the code for each question is present below the respected question number\n",
        "\n",
        "- You will receive two **dataset links** from the portal only\n",
        "  1.   Unit 1 of 2 : Preprocessing\n",
        "    -  train_test_split not required  \n",
        "  1.   Unit 2 of 2 : ModelBuilding\n",
        "    -  train_test_split required\n",
        "\n",
        "- This exam consists of a Regression problem.\n",
        "\n",
        "- The target feature in the dataset is the '**Sale Price**' column.\n",
        "- Random state should be taken as 27 wherever applicable.\n",
        "\n",
        "- in google form field [None ,Select] represents no answer given\n",
        "   - NAT : None\n",
        "   - MCQ : Select"
      ],
      "metadata": {
        "id": "cp8ljQoZBRJ2"
      }
    },
    {
      "cell_type": "markdown",
      "source": [
        "# Metadata\n",
        "\n",
        "1. Year - selling year\n",
        "1. Date - selling date\n",
        "1. Locality - locality of the property\n",
        "1. Estimated Value - estimated selling price of the property\n",
        "1. Sale Price - Selling price of the property  ▶▶▶ **Target**\n",
        "1. num_family - Number of family staying in the property\n",
        "1. Residential - Type of the property\n",
        "1. num_rooms - Number of rooms\n",
        "1. carpet_area - The area of an apartment that can be covered by a carpet or the net usable area is known as the carpet area.\n",
        "1. property_tax_rate - yearly tax of the property($)\n",
        "1. Face - Direction property is facing\n",
        "1. Bathroom Count"
      ],
      "metadata": {
        "id": "v9auhUNiS8PD"
      }
    },
    {
      "cell_type": "markdown",
      "source": [
        "# Shape of the dataset is (10000,12) for both units [Note if you are not getting this shape that means your data has not been uploaded correctly to the colab]"
      ],
      "metadata": {
        "id": "CJSFMO3iRkF3"
      }
    },
    {
      "cell_type": "markdown",
      "source": [
        "# Unit 1 of 2 : Preprocessing\n",
        "- train_test_split not required.\n",
        "- Take whole dataset to solve all the question.\\\n",
        "## [Dataset Link](https://drive.google.com/file/d/1ugXf9514sOZx5izMY7Mt6_HX8doCQLcO/view)"
      ],
      "metadata": {
        "id": "o6L0DwwbQ_CP"
      }
    },
    {
      "cell_type": "code",
      "source": [
        "import numpy as np\n",
        "import pandas as pd"
      ],
      "metadata": {
        "id": "oW9R19ZIQqZp"
      },
      "execution_count": null,
      "outputs": []
    },
    {
      "cell_type": "code",
      "source": [
        "data = pd.read_csv('/content/Preprocessing3 (1).csv')\n",
        "data.shape,data.head()"
      ],
      "metadata": {
        "colab": {
          "base_uri": "https://localhost:8080/"
        },
        "id": "a2LUeQikQyZZ",
        "outputId": "41c2891b-289b-4db4-9c69-bc5645be7e69"
      },
      "execution_count": null,
      "outputs": [
        {
          "output_type": "execute_result",
          "data": {
            "text/plain": [
              "((10000, 12),\n",
              "          Date  Year    Locality  Estimated Value  Sale Price       Property  \\\n",
              " 0  2009-01-02  2009   Greenwich              NaN   5187000.0              ?   \n",
              " 1  2009-01-02  2009     Norwalk              NaN    480000.0  Single Family   \n",
              " 2  2009-01-02  2009   Waterbury          57890.0    152000.0  Single Family   \n",
              " 3  2009-01-02  2009         NaN          44520.0     60000.0  Single Family   \n",
              " 4  2009-01-03  2009  Bridgeport          91071.0    250000.0     Two Family   \n",
              " \n",
              "       Residential  num_rooms  num_bathrooms  carpet_area  property_tax_rate  \\\n",
              " 0  Detached House          3              2       1026.0           1.025953   \n",
              " 1  Detached House          3              2       1051.0           1.025953   \n",
              " 2  Detached House          3              2        943.0           1.025953   \n",
              " 3  Detached House          3              2       1099.0           1.025953   \n",
              " 4          Duplex          4              2       1213.0           1.025953   \n",
              " \n",
              "     Face  \n",
              " 0  South  \n",
              " 1   West  \n",
              " 2   East  \n",
              " 3  North  \n",
              " 4  South  )"
            ]
          },
          "metadata": {},
          "execution_count": 76
        }
      ]
    },
    {
      "cell_type": "code",
      "source": [
        "# @title Q1. [marks : 1] Which dataset are you using for this exam? {vertical-output: true, display-mode: \"form\", run:\"auto\" }\n",
        "Ans1 = \"Preprocessing3.csv\" # @param [\"Preprocessing1.csv\",\"Preprocessing2.csv\",\"Preprocessing3.csv\",\"Preprocessing4.csv\",\"Preprocessing5.csv\",\"Select\"]\n",
        "# correct = \"Preprocessing3.csv\"\n",
        "# if Ans1 == correct:\n",
        "#   print(\"correct\")\n",
        "# else :\n",
        "#   print(f\"correct answer should be : {correct}\")"
      ],
      "metadata": {
        "id": "iQ48rlfZq1ny"
      },
      "execution_count": null,
      "outputs": []
    },
    {
      "cell_type": "code",
      "source": [
        "data.columns"
      ],
      "metadata": {
        "colab": {
          "base_uri": "https://localhost:8080/"
        },
        "id": "iXUnyWl-Rmet",
        "outputId": "e3194627-f23f-4fe8-9a08-98fa682f3f9b"
      },
      "execution_count": null,
      "outputs": [
        {
          "output_type": "execute_result",
          "data": {
            "text/plain": [
              "Index(['Date', 'Year', 'Locality', 'Estimated Value', 'Sale Price', 'Property',\n",
              "       'Residential', 'num_rooms', 'num_bathrooms', 'carpet_area',\n",
              "       'property_tax_rate', 'Face'],\n",
              "      dtype='object')"
            ]
          },
          "metadata": {},
          "execution_count": 78
        }
      ]
    },
    {
      "cell_type": "code",
      "source": [
        "data['Locality'].unique()"
      ],
      "metadata": {
        "colab": {
          "base_uri": "https://localhost:8080/"
        },
        "id": "wZ0yLNhPRvtv",
        "outputId": "f3fee718-3fec-4109-cec3-8327c0da8114"
      },
      "execution_count": null,
      "outputs": [
        {
          "output_type": "execute_result",
          "data": {
            "text/plain": [
              "array(['Greenwich', 'Norwalk', 'Waterbury', nan, 'Bridgeport',\n",
              "       'Fairfield', 'West Hartford', 'Stamford'], dtype=object)"
            ]
          },
          "metadata": {},
          "execution_count": 79
        }
      ]
    },
    {
      "cell_type": "code",
      "source": [
        "# @title Q2. [marks : 4] What are the unique values present in the Locality feature of the dataset? {vertical-output: true, display-mode: \"form\" }\n",
        "Ans2 = \"[Bridgeport, Fairfield, Greenwich, Norwalk,Stamford,Waterbury, West Hartford]\" # @param [\"[Detached House, Duplex, Triplex, Fourplex]\", \" [West Hartford, Waterbury, Norwalk]\", \"[Boston, California, Greenwich, Stamford]\", \" [Bridgeport, Fairfield, Greenwich, Norwalk,Stamford,Waterbury, West Hartford]\", \"Select\"]\n",
        "\n",
        "correct = \"Preprocessing3.csv\"\n",
        "if Ans2 == correct:\n",
        "  print(\"correct\")\n",
        "else :\n",
        "  print(f\"correct answer should be : {correct}\")"
      ],
      "metadata": {
        "colab": {
          "base_uri": "https://localhost:8080/"
        },
        "id": "JdPtaP8-xKDy",
        "outputId": "2a7322ba-1fff-4963-d83a-ad2bc9dc61b6"
      },
      "execution_count": null,
      "outputs": [
        {
          "output_type": "stream",
          "name": "stdout",
          "text": [
            "correct answer should be : Preprocessing3.csv\n"
          ]
        }
      ]
    },
    {
      "cell_type": "code",
      "source": [
        "data.info()"
      ],
      "metadata": {
        "colab": {
          "base_uri": "https://localhost:8080/"
        },
        "id": "vhti7yK7Sq25",
        "outputId": "3da89c67-1c99-43ce-c731-127403bf70f0"
      },
      "execution_count": null,
      "outputs": [
        {
          "output_type": "stream",
          "name": "stdout",
          "text": [
            "<class 'pandas.core.frame.DataFrame'>\n",
            "RangeIndex: 10000 entries, 0 to 9999\n",
            "Data columns (total 12 columns):\n",
            " #   Column             Non-Null Count  Dtype  \n",
            "---  ------             --------------  -----  \n",
            " 0   Date               10000 non-null  object \n",
            " 1   Year               10000 non-null  int64  \n",
            " 2   Locality           8715 non-null   object \n",
            " 3   Estimated Value    8719 non-null   float64\n",
            " 4   Sale Price         10000 non-null  float64\n",
            " 5   Property           10000 non-null  object \n",
            " 6   Residential        10000 non-null  object \n",
            " 7   num_rooms          10000 non-null  int64  \n",
            " 8   num_bathrooms      10000 non-null  int64  \n",
            " 9   carpet_area        8718 non-null   float64\n",
            " 10  property_tax_rate  10000 non-null  float64\n",
            " 11  Face               10000 non-null  object \n",
            "dtypes: float64(4), int64(3), object(5)\n",
            "memory usage: 937.6+ KB\n"
          ]
        }
      ]
    },
    {
      "cell_type": "code",
      "source": [
        "data['Property'].unique()"
      ],
      "metadata": {
        "colab": {
          "base_uri": "https://localhost:8080/"
        },
        "id": "BZ-Zr6U8TtBg",
        "outputId": "d9dcc41e-8fec-4d38-8372-9df055af462f"
      },
      "execution_count": null,
      "outputs": [
        {
          "output_type": "execute_result",
          "data": {
            "text/plain": [
              "array(['?', 'Single Family', 'Two Family', 'Three Family', 'Four Family'],\n",
              "      dtype=object)"
            ]
          },
          "metadata": {},
          "execution_count": 82
        }
      ]
    },
    {
      "cell_type": "code",
      "source": [
        "data['Property'].value_counts()"
      ],
      "metadata": {
        "colab": {
          "base_uri": "https://localhost:8080/"
        },
        "id": "2_1vK8qvZ0SD",
        "outputId": "36b7998f-8fcf-4c53-83a5-eac7cadae1fa"
      },
      "execution_count": null,
      "outputs": [
        {
          "output_type": "execute_result",
          "data": {
            "text/plain": [
              "Single Family    6761\n",
              "?                1873\n",
              "Two Family        795\n",
              "Three Family      502\n",
              "Four Family        69\n",
              "Name: Property, dtype: int64"
            ]
          },
          "metadata": {},
          "execution_count": 83
        }
      ]
    },
    {
      "cell_type": "code",
      "source": [
        "#@title Q.3 [Marks: 4] Which of the following columns have categorical data?{vertical-output: true, display-mode: \"form\", run:\"auto\" }\n",
        "Ans3 = \"[Locality,Property,Face]\" # @param [\"[Estimated Value, Locality,Property]\",\"[Estimated Value,Property,Face]\", \"[Locality,Property,Face]\", \"[num_bathrooms, Face, Year]\", \"Select\"]\n",
        "print(Ans3)"
      ],
      "metadata": {
        "id": "Ucx5gHksGynf",
        "colab": {
          "base_uri": "https://localhost:8080/"
        },
        "outputId": "2cac79dd-2dde-4f0e-92f2-245bba7c3fdc"
      },
      "execution_count": null,
      "outputs": [
        {
          "output_type": "stream",
          "name": "stdout",
          "text": [
            "[Locality,Property,Face]\n"
          ]
        }
      ]
    },
    {
      "cell_type": "code",
      "source": [
        "#@title Q4 [marks: 4] Which of the following features have `missing`(NaN) or unknown (\"?\") values present in the dataset? {vertical-output: true, display-mode: \"form\", run:\"auto\" }\n",
        "Ans4 = \"[Estimated Value, Locality,Property]\" # @param [\"[Estimated Value, Locality,Property]\",\"[Estimated Value,Property,Face]\", \"[Locality,Property,Face]\", \"[num_bathrooms, Face, Year]\", \"Select\"]\n",
        "print(Ans4)"
      ],
      "metadata": {
        "id": "pn-AI_QMGygd",
        "colab": {
          "base_uri": "https://localhost:8080/"
        },
        "outputId": "42586b19-2262-4197-c881-8486d3a4bcd4"
      },
      "execution_count": null,
      "outputs": [
        {
          "output_type": "stream",
          "name": "stdout",
          "text": [
            "[Estimated Value, Locality,Property]\n"
          ]
        }
      ]
    },
    {
      "cell_type": "code",
      "source": [
        "data[(data['Year']==2022) & (data['Locality']=='Greenwich')&(data['num_rooms']>=3)&\n",
        "    (data['Face'].isin (['North','East'])) ].shape"
      ],
      "metadata": {
        "colab": {
          "base_uri": "https://localhost:8080/"
        },
        "id": "VLYK6kP5UAn7",
        "outputId": "2beb2dde-d7c4-4f9c-cdfb-29daddb7fc2a"
      },
      "execution_count": null,
      "outputs": [
        {
          "output_type": "execute_result",
          "data": {
            "text/plain": [
              "(35, 12)"
            ]
          },
          "metadata": {},
          "execution_count": 86
        }
      ]
    },
    {
      "cell_type": "code",
      "source": [
        "# @title Q5[marks:4] In the **Year** 2022, how many houses (rows) located in the Greenwich **Locality** have more than equal to 3 **num_room**, and **facing** towards either the North or East? {  vertical-output: true, display-mode: \"form\" }\n",
        "Ans5 = 35 # @param {type:\"integer\"}\n",
        "print(Ans5)\n"
      ],
      "metadata": {
        "id": "vli2c284iubS",
        "colab": {
          "base_uri": "https://localhost:8080/"
        },
        "outputId": "423d22f2-8112-47a0-df78-03931810e913"
      },
      "execution_count": null,
      "outputs": [
        {
          "output_type": "stream",
          "name": "stdout",
          "text": [
            "35\n"
          ]
        }
      ]
    },
    {
      "cell_type": "markdown",
      "source": [
        "# Rules for Imputing the missing(NaN) or unknown (\"?\") values:\n",
        "- In `Preprocessing unit` train_test_split is **not requred**. Take whole dataset to solve all the question\n",
        "- compute the instructed statistical values for different columns in to repalce missing(NaN) and unknown(\"?\") values respectively.\n",
        "- Ignore the missing and unknown values while calculating the statistical values.\n",
        "\n",
        "* Replace missing values(NaN) with the MOST FREQUENT value of the **Locality** feature\n",
        "* Repalce missing values(NaN) with the MEDIAN value of the **Estimated Value** feature\n",
        "* Replace missing values(NaN) with the MEAN value of the **carpet_area** feature\n",
        "* Replace Unknown values(\"?\") with the MOST FREQUENT value of the **Property**.\n",
        "\n",
        "- Write the answers related to the above imputation in below questions respectively.\n"
      ],
      "metadata": {
        "id": "pfXCwvwTGydl"
      }
    },
    {
      "cell_type": "code",
      "source": [
        "data['carpet_area'].mean()"
      ],
      "metadata": {
        "colab": {
          "base_uri": "https://localhost:8080/"
        },
        "id": "kOcvPvqrXj9T",
        "outputId": "039fe028-2829-4d9e-8b7f-5a6111fd403c"
      },
      "execution_count": null,
      "outputs": [
        {
          "output_type": "execute_result",
          "data": {
            "text/plain": [
              "1112.4767148428539"
            ]
          },
          "metadata": {},
          "execution_count": 88
        }
      ]
    },
    {
      "cell_type": "code",
      "source": [
        "#@title Q6[Marks: 4] Write the MEAN value of the **carpet_area** column of the dataset you found to replace all the Missing Values (NaN).(upto 2 digits after decimal points){  vertical-output: true, display-mode: \"form\" }\n",
        "Ans6 = 1112.48 # @param {type:\"number\"}\n",
        "print(Ans6)"
      ],
      "metadata": {
        "id": "jDX0hrRlHb1S",
        "colab": {
          "base_uri": "https://localhost:8080/"
        },
        "outputId": "46789d2f-b6c8-411c-bec2-4a09f7f851ed"
      },
      "execution_count": null,
      "outputs": [
        {
          "output_type": "stream",
          "name": "stdout",
          "text": [
            "1112.48\n"
          ]
        }
      ]
    },
    {
      "cell_type": "code",
      "source": [
        "data[\"Property\"].mode()"
      ],
      "metadata": {
        "colab": {
          "base_uri": "https://localhost:8080/"
        },
        "id": "Ng4WK5PaYIog",
        "outputId": "da751943-97bd-4664-c472-925394d387f1"
      },
      "execution_count": null,
      "outputs": [
        {
          "output_type": "execute_result",
          "data": {
            "text/plain": [
              "0    Single Family\n",
              "Name: Property, dtype: object"
            ]
          },
          "metadata": {},
          "execution_count": 90
        }
      ]
    },
    {
      "cell_type": "code",
      "source": [
        "#@title Q7 [Marks: 4] Write the value you used to replace the unknown value (\"?\") in the **Property**  column of the train dataset {  vertical-output: true, display-mode: \"form\" }\n",
        "Ans7 = \"Single Family\" # @param [\"Single Family\",\"Two Family\",\"Three Family\",\"Four Family\", \"Select\"]\n",
        "print(Ans7)"
      ],
      "metadata": {
        "id": "ECIJnMrGHV2R",
        "colab": {
          "base_uri": "https://localhost:8080/"
        },
        "outputId": "e3793d70-97fe-4308-89d7-8a3907c1023f"
      },
      "execution_count": null,
      "outputs": [
        {
          "output_type": "stream",
          "name": "stdout",
          "text": [
            "Single Family\n"
          ]
        }
      ]
    },
    {
      "cell_type": "code",
      "source": [
        "data['Property']=data['Property'].replace('?','Single Family')\n",
        "data['Property'].value_counts()"
      ],
      "metadata": {
        "colab": {
          "base_uri": "https://localhost:8080/"
        },
        "id": "NomiBbM6dhju",
        "outputId": "6f56f418-97f7-4351-96f5-c904ebcd3e8d"
      },
      "execution_count": null,
      "outputs": [
        {
          "output_type": "execute_result",
          "data": {
            "text/plain": [
              "Single Family    8634\n",
              "Two Family        795\n",
              "Three Family      502\n",
              "Four Family        69\n",
              "Name: Property, dtype: int64"
            ]
          },
          "metadata": {},
          "execution_count": 92
        }
      ]
    },
    {
      "cell_type": "code",
      "source": [
        "data['Locality'].unique()"
      ],
      "metadata": {
        "colab": {
          "base_uri": "https://localhost:8080/"
        },
        "id": "-GSLU3CteDPK",
        "outputId": "2a27cb13-f391-4d89-fbe8-9eaa00cd4aa8"
      },
      "execution_count": null,
      "outputs": [
        {
          "output_type": "execute_result",
          "data": {
            "text/plain": [
              "array(['Greenwich', 'Norwalk', 'Waterbury', nan, 'Bridgeport',\n",
              "       'Fairfield', 'West Hartford', 'Stamford'], dtype=object)"
            ]
          },
          "metadata": {},
          "execution_count": 93
        }
      ]
    },
    {
      "cell_type": "code",
      "source": [
        "data['Locality'].isna().sum()"
      ],
      "metadata": {
        "colab": {
          "base_uri": "https://localhost:8080/"
        },
        "id": "4SXxun-heht_",
        "outputId": "7aa1edad-09f1-4220-97c5-30d528de25ab"
      },
      "execution_count": null,
      "outputs": [
        {
          "output_type": "execute_result",
          "data": {
            "text/plain": [
              "1285"
            ]
          },
          "metadata": {},
          "execution_count": 94
        }
      ]
    },
    {
      "cell_type": "code",
      "source": [
        "data['Locality'].mode()"
      ],
      "metadata": {
        "colab": {
          "base_uri": "https://localhost:8080/"
        },
        "id": "e5gx304Ie2UF",
        "outputId": "00990e46-c168-4aa5-ee64-4376a59f0203"
      },
      "execution_count": null,
      "outputs": [
        {
          "output_type": "execute_result",
          "data": {
            "text/plain": [
              "0    Bridgeport\n",
              "Name: Locality, dtype: object"
            ]
          },
          "metadata": {},
          "execution_count": 95
        }
      ]
    },
    {
      "cell_type": "code",
      "source": [
        "data['Locality']= data['Locality'].fillna('Bridgeport')\n",
        "data['Locality'].unique()"
      ],
      "metadata": {
        "colab": {
          "base_uri": "https://localhost:8080/"
        },
        "id": "y2uBljKygheA",
        "outputId": "ef4b38a1-cb36-49dc-ead0-e6664aea4c02"
      },
      "execution_count": null,
      "outputs": [
        {
          "output_type": "execute_result",
          "data": {
            "text/plain": [
              "array(['Greenwich', 'Norwalk', 'Waterbury', 'Bridgeport', 'Fairfield',\n",
              "       'West Hartford', 'Stamford'], dtype=object)"
            ]
          },
          "metadata": {},
          "execution_count": 96
        }
      ]
    },
    {
      "cell_type": "code",
      "source": [
        "data['carpet_area'].isna().sum()"
      ],
      "metadata": {
        "colab": {
          "base_uri": "https://localhost:8080/"
        },
        "id": "7uvo7rxVhXJ6",
        "outputId": "7acfdb2c-9296-40df-dada-473900864a34"
      },
      "execution_count": null,
      "outputs": [
        {
          "output_type": "execute_result",
          "data": {
            "text/plain": [
              "1282"
            ]
          },
          "metadata": {},
          "execution_count": 97
        }
      ]
    },
    {
      "cell_type": "code",
      "source": [
        "data['carpet_area']=data['carpet_area'].fillna(data['carpet_area'].mean())\n",
        "data['carpet_area'].isna().sum()"
      ],
      "metadata": {
        "colab": {
          "base_uri": "https://localhost:8080/"
        },
        "id": "KSVS-2afhoVZ",
        "outputId": "3856f8b2-3b48-438c-cda1-5f0106a3676c"
      },
      "execution_count": null,
      "outputs": [
        {
          "output_type": "execute_result",
          "data": {
            "text/plain": [
              "0"
            ]
          },
          "metadata": {},
          "execution_count": 98
        }
      ]
    },
    {
      "cell_type": "code",
      "source": [
        "data['Estimated Value'].isna().sum()"
      ],
      "metadata": {
        "colab": {
          "base_uri": "https://localhost:8080/"
        },
        "id": "oLKjdpLyi03l",
        "outputId": "8c1eab4a-85f7-46a9-cd55-78ef9d1768f1"
      },
      "execution_count": null,
      "outputs": [
        {
          "output_type": "execute_result",
          "data": {
            "text/plain": [
              "1281"
            ]
          },
          "metadata": {},
          "execution_count": 99
        }
      ]
    },
    {
      "cell_type": "code",
      "source": [
        "data['Estimated Value']=data['Estimated Value'].fillna(data['Estimated Value'].mean())\n",
        "data['Estimated Value'].isna().sum()"
      ],
      "metadata": {
        "colab": {
          "base_uri": "https://localhost:8080/"
        },
        "id": "03kfDW5bi-HP",
        "outputId": "e491e0dd-ba35-497a-cacd-b5a9fa5c9a71"
      },
      "execution_count": null,
      "outputs": [
        {
          "output_type": "execute_result",
          "data": {
            "text/plain": [
              "0"
            ]
          },
          "metadata": {},
          "execution_count": 100
        }
      ]
    },
    {
      "cell_type": "code",
      "source": [
        "data.info()"
      ],
      "metadata": {
        "colab": {
          "base_uri": "https://localhost:8080/"
        },
        "id": "_XEDbzUjjT01",
        "outputId": "fe38d79c-0687-4c05-c1f5-9b6b18a2c475"
      },
      "execution_count": null,
      "outputs": [
        {
          "output_type": "stream",
          "name": "stdout",
          "text": [
            "<class 'pandas.core.frame.DataFrame'>\n",
            "RangeIndex: 10000 entries, 0 to 9999\n",
            "Data columns (total 12 columns):\n",
            " #   Column             Non-Null Count  Dtype  \n",
            "---  ------             --------------  -----  \n",
            " 0   Date               10000 non-null  object \n",
            " 1   Year               10000 non-null  int64  \n",
            " 2   Locality           10000 non-null  object \n",
            " 3   Estimated Value    10000 non-null  float64\n",
            " 4   Sale Price         10000 non-null  float64\n",
            " 5   Property           10000 non-null  object \n",
            " 6   Residential        10000 non-null  object \n",
            " 7   num_rooms          10000 non-null  int64  \n",
            " 8   num_bathrooms      10000 non-null  int64  \n",
            " 9   carpet_area        10000 non-null  float64\n",
            " 10  property_tax_rate  10000 non-null  float64\n",
            " 11  Face               10000 non-null  object \n",
            "dtypes: float64(4), int64(3), object(5)\n",
            "memory usage: 937.6+ KB\n"
          ]
        }
      ]
    },
    {
      "cell_type": "markdown",
      "source": [
        "# Apply preprocessing on features of train and test datasets.\n",
        "\n",
        "- Drop the 'Date' Column before the preprocessing steps.\n",
        "- before applying any preprocessing there should not be any missing or unknown values present in the train and test dataset.\n",
        "- fitting (learning) should be done only on train dataset.\n",
        "- transform the train and test dataset using the fitting (learning) of train dataset\n",
        "\n",
        "## For Numerical Features\n",
        "\n",
        "* Scale the numerical feature of the feature matrix using the Min-Max Scaler\n",
        "\n",
        "## For Categorical Features\n",
        "\n",
        "* One-Hot Encode all categorical features(object columns) in the feature matrix"
      ],
      "metadata": {
        "id": "GgCfE-E5GyDx"
      }
    },
    {
      "cell_type": "code",
      "source": [
        "data = data.drop(['Date'],axis = 1)\n"
      ],
      "metadata": {
        "id": "EsqU8WfHkOUs"
      },
      "execution_count": null,
      "outputs": []
    },
    {
      "cell_type": "code",
      "source": [
        "data.columns"
      ],
      "metadata": {
        "colab": {
          "base_uri": "https://localhost:8080/"
        },
        "id": "OmjGveeqmYad",
        "outputId": "8557c4b7-2cda-4814-a00c-9c99dd70ed77"
      },
      "execution_count": null,
      "outputs": [
        {
          "output_type": "execute_result",
          "data": {
            "text/plain": [
              "Index(['Year', 'Locality', 'Estimated Value', 'Sale Price', 'Property',\n",
              "       'Residential', 'num_rooms', 'num_bathrooms', 'carpet_area',\n",
              "       'property_tax_rate', 'Face'],\n",
              "      dtype='object')"
            ]
          },
          "metadata": {},
          "execution_count": 122
        }
      ]
    },
    {
      "cell_type": "code",
      "source": [
        "data.info()"
      ],
      "metadata": {
        "colab": {
          "base_uri": "https://localhost:8080/"
        },
        "id": "JfnfYj-hoF2O",
        "outputId": "6c4cac66-b85c-4878-fabd-f5be17701ace"
      },
      "execution_count": null,
      "outputs": [
        {
          "output_type": "stream",
          "name": "stdout",
          "text": [
            "<class 'pandas.core.frame.DataFrame'>\n",
            "RangeIndex: 10000 entries, 0 to 9999\n",
            "Data columns (total 11 columns):\n",
            " #   Column             Non-Null Count  Dtype  \n",
            "---  ------             --------------  -----  \n",
            " 0   Year               10000 non-null  int64  \n",
            " 1   Locality           10000 non-null  object \n",
            " 2   Estimated Value    10000 non-null  float64\n",
            " 3   Sale Price         10000 non-null  float64\n",
            " 4   Property           10000 non-null  object \n",
            " 5   Residential        10000 non-null  object \n",
            " 6   num_rooms          10000 non-null  int64  \n",
            " 7   num_bathrooms      10000 non-null  int64  \n",
            " 8   carpet_area        10000 non-null  float64\n",
            " 9   property_tax_rate  10000 non-null  float64\n",
            " 10  Face               10000 non-null  object \n",
            "dtypes: float64(4), int64(3), object(4)\n",
            "memory usage: 859.5+ KB\n"
          ]
        }
      ]
    },
    {
      "cell_type": "code",
      "source": [
        "from sklearn.compose import ColumnTransformer\n",
        "from sklearn.preprocessing import OneHotEncoder,MinMaxScaler\n",
        "from sklearn.pipeline import Pipeline"
      ],
      "metadata": {
        "id": "KL7mQIzWmd1C"
      },
      "execution_count": null,
      "outputs": []
    },
    {
      "cell_type": "code",
      "source": [
        "numerical_features = ['Year',  'Estimated Value', 'Sale Price',\n",
        "        'num_rooms', 'num_bathrooms', 'carpet_area',\n",
        "       'property_tax_rate']\n",
        "categorical_features = [ 'Locality', 'Property',\n",
        "       'Residential', 'num_rooms',\n",
        "        'Face']\n",
        "numeric_transformer = Pipeline([('scaler',MinMaxScaler())])\n",
        "cat_transformer = Pipeline([('encoder',OneHotEncoder())])\n",
        "column_transformer = ColumnTransformer([('num',numeric_transformer,numerical_features),\n",
        " ('cat',cat_transformer,categorical_features)])\n"
      ],
      "metadata": {
        "id": "1xQOlK96nTVr"
      },
      "execution_count": null,
      "outputs": []
    },
    {
      "cell_type": "code",
      "source": [
        "transformed_data = column_transformer.fit_transform(data)\n",
        "transformed_data.shape"
      ],
      "metadata": {
        "colab": {
          "base_uri": "https://localhost:8080/"
        },
        "id": "aUAbd357sNyH",
        "outputId": "04ee415a-bcbd-417e-e8c1-df1cb3b3bed7"
      },
      "execution_count": null,
      "outputs": [
        {
          "output_type": "execute_result",
          "data": {
            "text/plain": [
              "(10000, 30)"
            ]
          },
          "metadata": {},
          "execution_count": 132
        }
      ]
    },
    {
      "cell_type": "code",
      "source": [
        "#@title Q8 [Marks:10] How many total features you got after one-hot encoding and scaling the training dataset?{  vertical-output: true, display-mode: \"form\"}\n",
        "Ans8 = 30 #@param {type:\"integer\"}\n",
        "print(Ans8)"
      ],
      "metadata": {
        "id": "HxYFO2iYk_pe",
        "colab": {
          "base_uri": "https://localhost:8080/"
        },
        "outputId": "b5f4aa88-e17e-45dc-bdc3-beb698fba928"
      },
      "execution_count": null,
      "outputs": [
        {
          "output_type": "stream",
          "name": "stdout",
          "text": [
            "30\n"
          ]
        }
      ]
    },
    {
      "cell_type": "markdown",
      "source": [
        "# Unit 2 of 2 : Model Building\n",
        "## [Dataset Link](https://drive.google.com/file/d/1fZMUEsgfLvCPKWnTOEoJd8Xnn_MOumMM/view)"
      ],
      "metadata": {
        "id": "Z-5HQ_5G2TV0"
      }
    },
    {
      "cell_type": "code",
      "source": [
        "data1= pd.read_csv('/content/Model_Building_1.csv')"
      ],
      "metadata": {
        "id": "hy0OIUkHuHzW"
      },
      "execution_count": null,
      "outputs": []
    },
    {
      "cell_type": "code",
      "source": [
        "data1.shape"
      ],
      "metadata": {
        "colab": {
          "base_uri": "https://localhost:8080/"
        },
        "id": "MPU8BcpBuYu_",
        "outputId": "ab496dc6-fc1b-45fe-b312-6351828dd184"
      },
      "execution_count": null,
      "outputs": [
        {
          "output_type": "execute_result",
          "data": {
            "text/plain": [
              "(10000, 26)"
            ]
          },
          "metadata": {},
          "execution_count": 137
        }
      ]
    },
    {
      "cell_type": "code",
      "source": [
        "data1.columns"
      ],
      "metadata": {
        "colab": {
          "base_uri": "https://localhost:8080/"
        },
        "id": "56S7O_pNusGT",
        "outputId": "a54faf19-cde9-490e-d8a5-b04351d18866"
      },
      "execution_count": null,
      "outputs": [
        {
          "output_type": "execute_result",
          "data": {
            "text/plain": [
              "Index(['Locality_Bridgeport', 'Locality_Fairfield', 'Locality_Greenwich',\n",
              "       'Locality_Norwalk', 'Locality_Stamford', 'Locality_Waterbury',\n",
              "       'Locality_West Hartford', 'Property_Four Family',\n",
              "       'Property_Single Family', 'Property_Three Family',\n",
              "       'Property_Two Family', 'Residential_Detached House',\n",
              "       'Residential_Duplex', 'Residential_Fourplex', 'Residential_Triplex',\n",
              "       'Face_East', 'Face_North', 'Face_South', 'Face_West', 'Year',\n",
              "       'Estimated Value', 'num_rooms', 'num_bathrooms', 'carpet_area',\n",
              "       'property_tax_rate', 'Sale Price'],\n",
              "      dtype='object')"
            ]
          },
          "metadata": {},
          "execution_count": 138
        }
      ]
    },
    {
      "cell_type": "code",
      "source": [
        "# @title Q9 [marks : 0] Which dataset are you using for Unit2? {vertical-output: true, display-mode: \"form\", run:\"auto\" }\n",
        "Ans9 = \"ModelBuilding1.csv\" # @param [\"ModelBuilding1.csv\", \"ModelBuilding2.csv\", \"ModelBuilding3.csv\", \"ModelBuilding4.csv\", \"ModelBuilding5.csv\", \"Select\"]\n",
        "print(Ans9)"
      ],
      "metadata": {
        "id": "PALZfY19KjYf",
        "colab": {
          "base_uri": "https://localhost:8080/"
        },
        "outputId": "89b662d4-8cca-490d-a32e-3d65844e6a83"
      },
      "execution_count": null,
      "outputs": [
        {
          "output_type": "stream",
          "name": "stdout",
          "text": [
            "ModelBuilding1.csv\n"
          ]
        }
      ]
    },
    {
      "cell_type": "markdown",
      "source": [
        "Split the dataset into train dataset and test dataset in the following manner :\n",
        "- data (rows) index [0, 8271] should be the train dataset\n",
        "- data (rows) index from 8272 till last row should be the test dataset\n",
        "- columns except of the label(Sale Price) vector should be the feature matrix (X_train or X_test)\n",
        "- make label vector (Y_train or y_test) containing values only from the target feature.\n"
      ],
      "metadata": {
        "id": "EjXUz8CikJRI"
      }
    },
    {
      "cell_type": "code",
      "source": [
        "X = data1.drop(['Sale Price'],axis = 1)\n",
        "y = data1['Sale Price']"
      ],
      "metadata": {
        "id": "NH3xjFnwu3mh"
      },
      "execution_count": null,
      "outputs": []
    },
    {
      "cell_type": "code",
      "source": [
        "X.shape , y.shape"
      ],
      "metadata": {
        "colab": {
          "base_uri": "https://localhost:8080/"
        },
        "id": "XNirFq57vX_K",
        "outputId": "92694c0c-af04-4295-feaf-ee92881c780b"
      },
      "execution_count": null,
      "outputs": [
        {
          "output_type": "execute_result",
          "data": {
            "text/plain": [
              "((10000, 25), (10000,))"
            ]
          },
          "metadata": {},
          "execution_count": 141
        }
      ]
    },
    {
      "cell_type": "code",
      "source": [
        "X_train = X[:8272]\n",
        "y_train = y[:8272]\n",
        "X_test = X[8272:]\n",
        "y_test = y[8272:]"
      ],
      "metadata": {
        "id": "yp3nB4N7vePr"
      },
      "execution_count": null,
      "outputs": []
    },
    {
      "cell_type": "code",
      "source": [
        "X_train.shape , y_train.shape,X_test.shape,y_test.shape"
      ],
      "metadata": {
        "colab": {
          "base_uri": "https://localhost:8080/"
        },
        "id": "LUUR_ZOowDND",
        "outputId": "5c9ec2b4-da39-4369-ae9a-a7c9ad6689c5"
      },
      "execution_count": null,
      "outputs": [
        {
          "output_type": "execute_result",
          "data": {
            "text/plain": [
              "((8272, 25), (8272,), (1728, 25), (1728,))"
            ]
          },
          "metadata": {},
          "execution_count": 143
        }
      ]
    },
    {
      "cell_type": "code",
      "source": [
        "#@title Q10 [Marks: 4] How many rows are in the feature matrix of the test dataset ?{  vertical-output: true, display-mode: \"form\"}\n",
        "Ans10 = 8272 # @param {type:\"integer\"}\n",
        "print(Ans10)"
      ],
      "metadata": {
        "id": "YHC30gQBYzSW",
        "colab": {
          "base_uri": "https://localhost:8080/"
        },
        "outputId": "6d0650d6-51c1-4a83-c55c-aa8704229ea7"
      },
      "execution_count": null,
      "outputs": [
        {
          "output_type": "stream",
          "name": "stdout",
          "text": [
            "8272\n"
          ]
        }
      ]
    },
    {
      "cell_type": "code",
      "source": [
        "from sklearn.linear_model import LinearRegression\n",
        "from sklearn.metrics import r2_score"
      ],
      "metadata": {
        "id": "U_Y-1QUYwiNO"
      },
      "execution_count": null,
      "outputs": []
    },
    {
      "cell_type": "code",
      "source": [
        "LR = LinearRegression()\n",
        "LR.fit(X_train,y_train)\n",
        "LR.score(X_test,y_test)"
      ],
      "metadata": {
        "colab": {
          "base_uri": "https://localhost:8080/"
        },
        "id": "1n3D3QoWw31E",
        "outputId": "606a0b32-2766-4cb9-e991-05ec8dde770f"
      },
      "execution_count": null,
      "outputs": [
        {
          "output_type": "execute_result",
          "data": {
            "text/plain": [
              "0.6468929065748328"
            ]
          },
          "metadata": {},
          "execution_count": 151
        }
      ]
    },
    {
      "cell_type": "code",
      "source": [
        "#@title Q11 [Marks: 4] Apply `LinearRegression` on the train dataset. **What is the `R2 score` on the test dataset?**{  vertical-output: true, display-mode: \"form\"}\n",
        "#@markdown ( Upto 4 digits after decimal points)\n",
        "Ans11 = 0.6469 #@param {type:\"number\"}\n",
        "print(Ans11)"
      ],
      "metadata": {
        "id": "cYQVfoMALdaz",
        "colab": {
          "base_uri": "https://localhost:8080/"
        },
        "outputId": "5e515d7e-cea1-4e15-a470-046d69dc9e7e"
      },
      "execution_count": null,
      "outputs": [
        {
          "output_type": "stream",
          "name": "stdout",
          "text": [
            "0.6469\n"
          ]
        }
      ]
    },
    {
      "cell_type": "code",
      "source": [
        "from sklearn.model_selection import cross_val_score"
      ],
      "metadata": {
        "id": "z_mHIZ3o0jLL"
      },
      "execution_count": null,
      "outputs": []
    },
    {
      "cell_type": "code",
      "source": [
        "r2_scores = cross_val_score(LR,X_train,y_train,cv=5,scoring ='r2')\n",
        "r2_scores"
      ],
      "metadata": {
        "colab": {
          "base_uri": "https://localhost:8080/"
        },
        "id": "_kapxzO00tvt",
        "outputId": "36e8323a-101d-44c8-c0ac-0ec4eb2a623e"
      },
      "execution_count": null,
      "outputs": [
        {
          "output_type": "execute_result",
          "data": {
            "text/plain": [
              "array([0.63553989, 0.76800107, 0.74169609, 0.81473138, 0.66269374])"
            ]
          },
          "metadata": {},
          "execution_count": 155
        }
      ]
    },
    {
      "cell_type": "code",
      "source": [
        "#@title Q12 [Marks: 6]Enter the maximum value of `𝑅2 score` you got using the `LinearRegression` model when computed with 5 folds from the training dataset using `cross_val_score`.{  vertical-output: true, display-mode: \"form\"}\n",
        "#@markdown( Upto 4 digits after decimal points) obtained.\n",
        "#@markdown (Hint: By default cross_val_score uses LinearRegression's scoring metric, which is  𝑅2 score.)\n",
        "\n",
        "Ans12 = 0.8147 #@param {type:\"number\"}\n",
        "print(Ans12)"
      ],
      "metadata": {
        "id": "-E0R8cyjMT2b",
        "colab": {
          "base_uri": "https://localhost:8080/"
        },
        "outputId": "27fc1736-76c3-492e-a115-0d0f718976e1"
      },
      "execution_count": null,
      "outputs": [
        {
          "output_type": "stream",
          "name": "stdout",
          "text": [
            "0.8147\n"
          ]
        }
      ]
    },
    {
      "cell_type": "code",
      "source": [
        "from sklearn.linear_model import Ridge,Lasso\n",
        "from sklearn.metrics import mean_squared_error"
      ],
      "metadata": {
        "id": "tIUFtrCR1ZJ4"
      },
      "execution_count": null,
      "outputs": []
    },
    {
      "cell_type": "code",
      "source": [
        "ridge = Ridge(random_state=27)\n",
        "lasso = Lasso(random_state = 27)\n",
        "ridge.fit(X_train,y_train)\n",
        "y_pred = ridge.predict(X_test)\n",
        "mse_ridge = mean_squared_error(y_test,y_pred)\n",
        "mse_ridge\n"
      ],
      "metadata": {
        "colab": {
          "base_uri": "https://localhost:8080/"
        },
        "id": "RbDV01CD16si",
        "outputId": "bf0e2eb2-a8a5-41e7-9a6e-73acbbfb05dd"
      },
      "execution_count": null,
      "outputs": [
        {
          "output_type": "execute_result",
          "data": {
            "text/plain": [
              "301994665976.23914"
            ]
          },
          "metadata": {},
          "execution_count": 163
        }
      ]
    },
    {
      "cell_type": "code",
      "source": [
        "lasso.fit(X_train,y_train)\n",
        "y_pred = lasso.predict(X_test)\n",
        "mse_lasso = mean_squared_error(y_test,y_pred)\n",
        "mse_lasso\n"
      ],
      "metadata": {
        "colab": {
          "base_uri": "https://localhost:8080/"
        },
        "id": "Li5CBGpY4oQR",
        "outputId": "1449e1c2-4804-4258-8e46-97504dbc0aed"
      },
      "execution_count": null,
      "outputs": [
        {
          "output_type": "stream",
          "name": "stderr",
          "text": [
            "/usr/local/lib/python3.10/dist-packages/sklearn/linear_model/_coordinate_descent.py:631: ConvergenceWarning: Objective did not converge. You might want to increase the number of iterations, check the scale of the features or consider increasing regularisation. Duality gap: 7.076e+14, tolerance: 1.091e+12\n",
            "  model = cd_fast.enet_coordinate_descent(\n"
          ]
        },
        {
          "output_type": "execute_result",
          "data": {
            "text/plain": [
              "305853086563.8274"
            ]
          },
          "metadata": {},
          "execution_count": 164
        }
      ]
    },
    {
      "cell_type": "code",
      "source": [
        "#@title Q13[Marks:6] Train Ridge and Lasso with random_state=27 and keep other parameters as default using train dataset. **Which one has the least \"mean squared error\" for the test dataset.**{  vertical-output: true, display-mode: \"form\"}\n",
        "Ans13 = \"Ridge\" # @param [\"Ridge\",\"Lasso\",\"Both are Equal\", \"Select\"]{type:\"string\"}\n",
        "print(Ans13)"
      ],
      "metadata": {
        "id": "GiOPDOatQh8G",
        "colab": {
          "base_uri": "https://localhost:8080/"
        },
        "outputId": "b19c1c09-395c-43dc-eb2f-fe405bae3841"
      },
      "execution_count": null,
      "outputs": [
        {
          "output_type": "stream",
          "name": "stdout",
          "text": [
            "Ridge\n"
          ]
        }
      ]
    },
    {
      "cell_type": "code",
      "source": [
        "from sklearn.linear_model import SGDRegressor"
      ],
      "metadata": {
        "id": "ZBtdKOOv51Wg"
      },
      "execution_count": null,
      "outputs": []
    },
    {
      "cell_type": "code",
      "source": [
        "SR = SGDRegressor(random_state=27,warm_start=True,max_iter = 100)\n",
        "SR.fit(X_train,y_train)\n",
        "SR.score(X_test,y_test)"
      ],
      "metadata": {
        "colab": {
          "base_uri": "https://localhost:8080/"
        },
        "id": "HXbuSGtq5_sN",
        "outputId": "d9a2001c-48a1-43ee-f3eb-53bcd2f24738"
      },
      "execution_count": null,
      "outputs": [
        {
          "output_type": "stream",
          "name": "stderr",
          "text": [
            "/usr/local/lib/python3.10/dist-packages/sklearn/linear_model/_stochastic_gradient.py:1548: ConvergenceWarning: Maximum number of iteration reached before convergence. Consider increasing max_iter to improve the fit.\n",
            "  warnings.warn(\n"
          ]
        },
        {
          "output_type": "execute_result",
          "data": {
            "text/plain": [
              "0.5267937468412169"
            ]
          },
          "metadata": {},
          "execution_count": 168
        }
      ]
    },
    {
      "cell_type": "code",
      "source": [
        "y_pred = SR.predict(X_test)\n",
        "r2score = r2_score(y_test,y_pred)\n",
        "r2score"
      ],
      "metadata": {
        "colab": {
          "base_uri": "https://localhost:8080/"
        },
        "id": "ieG2HtuQ6smH",
        "outputId": "1bddb59e-5cb6-4d17-9e04-d2decd2bb5ce"
      },
      "execution_count": null,
      "outputs": [
        {
          "output_type": "execute_result",
          "data": {
            "text/plain": [
              "0.5267937468412169"
            ]
          },
          "metadata": {},
          "execution_count": 170
        }
      ]
    },
    {
      "cell_type": "code",
      "source": [
        "#@title Q14 [Marks: 6] Train the `SGDRegressor(random_state=27,warm_start=True)` with maximum passes over the train dataset can be 100.{  vertical-output: true, display-mode: \"form\"}\n",
        "#@markdown Write the correct R2 score for this estimator on test dataset  [NAT] (correct Upto 4 digits)\n",
        "\n",
        "Ans14 = 0.5268 # @param {type:\"number\"}"
      ],
      "metadata": {
        "id": "7b3Rg1DIRKKZ"
      },
      "execution_count": null,
      "outputs": []
    },
    {
      "cell_type": "markdown",
      "source": [
        "# (Common Instructions for Question 15 and 16)\n",
        "\n",
        "- create a pipeline of the PolynomialFeatures(interaction_only=True) as transformer and Lasso as an estimator.\n",
        "\n",
        "- Use GridSearchCV for tuning the hyperparameters of the created pipeline on training dataset.\n",
        "\n",
        "1. Keep polynomial degree as : [1,2]\n",
        "2. lasso alpha value to be taken as : [10,100,1000,10000]\n",
        "3. scoring : neg_mean_absolute_error.\n",
        "4. cv = 5\n",
        "5. n_jobs = -1 (negative one) [it helps in using all the computational power to run this job]\n",
        "\n",
        "(Note: Kindly ignore the warning.)"
      ],
      "metadata": {
        "id": "3cK8OSTpPEOQ"
      }
    },
    {
      "cell_type": "code",
      "source": [
        "from sklearn.model_selection import GridSearchCV\n",
        "from sklearn.preprocessing import PolynomialFeatures\n",
        "from sklearn.metrics import mean_absolute_error"
      ],
      "metadata": {
        "id": "RqMZbmzf9Bbq"
      },
      "execution_count": null,
      "outputs": []
    },
    {
      "cell_type": "code",
      "source": [
        "pipe = Pipeline([('poly',PolynomialFeatures(interaction_only = True)),('lasso',Lasso())])\n",
        "param_grid = {'poly__degree':[1,2],'lasso__alpha':[10,100,1000,10000]}\n",
        "grid_search = GridSearchCV(pipe,param_grid,cv=5,scoring='neg_mean_absolute_error',n_jobs = -1)"
      ],
      "metadata": {
        "id": "MCbJILTt9UiV"
      },
      "execution_count": null,
      "outputs": []
    },
    {
      "cell_type": "code",
      "source": [
        "grid_search.fit(X_train,y_train)\n",
        "best_params = grid_search.best_params_\n",
        "best_params"
      ],
      "metadata": {
        "colab": {
          "base_uri": "https://localhost:8080/"
        },
        "id": "f-4KIVW3_xEM",
        "outputId": "7fd1ffaf-c6ec-4c07-b330-ce3b1bb0f208"
      },
      "execution_count": null,
      "outputs": [
        {
          "output_type": "execute_result",
          "data": {
            "text/plain": [
              "{'lasso__alpha': 1000, 'poly__degree': 1}"
            ]
          },
          "metadata": {},
          "execution_count": 176
        }
      ]
    },
    {
      "cell_type": "code",
      "source": [
        "#@title Q15 [Marks: 6] Mark the best `alpha` value you got using above instructions.{  vertical-output: true, display-mode: \"form\"}\n",
        "Ans15 = \"1000\" # @param [10,100,1000, 10000, \"Select\"]{type:\"string\"}\n",
        "print(Ans15)"
      ],
      "metadata": {
        "id": "2RbDz0u0PS6x",
        "colab": {
          "base_uri": "https://localhost:8080/"
        },
        "outputId": "a9cf1533-b60a-4407-e2e9-af55fcda5af3"
      },
      "execution_count": null,
      "outputs": [
        {
          "output_type": "stream",
          "name": "stdout",
          "text": [
            "1000\n"
          ]
        }
      ]
    },
    {
      "cell_type": "code",
      "source": [
        "#@title Q16[Marks: 6] Enter the best polynomial degree value you got using above instructions.{  vertical-output: true, display-mode: \"form\"}\n",
        "Ans16 = 1 # @param{type:\"number\"}\n",
        "print(Ans16)"
      ],
      "metadata": {
        "id": "M2XC2KKAPet_",
        "colab": {
          "base_uri": "https://localhost:8080/"
        },
        "outputId": "9e860fe3-c37e-4a94-ade2-dd85bceb6703"
      },
      "execution_count": null,
      "outputs": [
        {
          "output_type": "stream",
          "name": "stdout",
          "text": [
            "1\n"
          ]
        }
      ]
    },
    {
      "cell_type": "markdown",
      "source": [
        "# (Common Instructions for Question 17 and 18)\n",
        "## To Reduce number of dimensions of training data with PCA. Fit the PCA model using following parameter values on training data.\n",
        "\n",
        "* n_components= 13\n",
        "* svd_solver='full'\n",
        "* whiten=True\n",
        "* random_state=27"
      ],
      "metadata": {
        "id": "oviDzUl3PoLY"
      }
    },
    {
      "cell_type": "code",
      "source": [
        "from sklearn.decomposition import PCA"
      ],
      "metadata": {
        "id": "smW7BlYEBn9o"
      },
      "execution_count": null,
      "outputs": []
    },
    {
      "cell_type": "code",
      "source": [
        "pca = PCA(n_components = 13,svd_solver = 'full',whiten= True, random_state = 27)\n",
        "X_pca_train = pca.fit_transform(X_train)\n",
        "explained = pca.explained_variance_ratio_\n",
        "explained"
      ],
      "metadata": {
        "colab": {
          "base_uri": "https://localhost:8080/"
        },
        "id": "I8fLTKfYB1V7",
        "outputId": "ac08a8f9-85d8-43b4-cb09-16a6337299c8"
      },
      "execution_count": null,
      "outputs": [
        {
          "output_type": "execute_result",
          "data": {
            "text/plain": [
              "array([0.17593528, 0.10229786, 0.10113922, 0.10054125, 0.09173088,\n",
              "       0.0825141 , 0.06277781, 0.04926338, 0.04607906, 0.04400039,\n",
              "       0.0424835 , 0.04054112, 0.03110159])"
            ]
          },
          "metadata": {},
          "execution_count": 189
        }
      ]
    },
    {
      "cell_type": "code",
      "source": [
        "explained.sum()"
      ],
      "metadata": {
        "colab": {
          "base_uri": "https://localhost:8080/"
        },
        "id": "JqID0gFoCwl0",
        "outputId": "05687270-5369-4bb4-a400-1a22d258f3a2"
      },
      "execution_count": null,
      "outputs": [
        {
          "output_type": "execute_result",
          "data": {
            "text/plain": [
              "0.9704054622920403"
            ]
          },
          "metadata": {},
          "execution_count": 190
        }
      ]
    },
    {
      "cell_type": "code",
      "source": [
        "#@title Q17: [Marks:6] What is the sum of `explained_variance_ratio_` ?{  vertical-output: true, display-mode: \"form\"}\n",
        "#@markdown (upto two digits after the decimal)\n",
        "\n",
        "Ans17 = 0.97 # @param{type:\"number\"}\n",
        "print(Ans17)"
      ],
      "metadata": {
        "id": "G7vldLojP4OJ",
        "colab": {
          "base_uri": "https://localhost:8080/"
        },
        "outputId": "635a8b5b-32eb-4a3f-b2bc-e9d6e01fef1a"
      },
      "execution_count": null,
      "outputs": [
        {
          "output_type": "stream",
          "name": "stdout",
          "text": [
            "0.97\n"
          ]
        }
      ]
    },
    {
      "cell_type": "code",
      "source": [
        "from sklearn.linear_model import RidgeCV"
      ],
      "metadata": {
        "id": "sRAUzc83Dkii"
      },
      "execution_count": null,
      "outputs": []
    },
    {
      "cell_type": "code",
      "source": [
        "R_CV= RidgeCV(alphas = [0.1,1,10,100,1000,10000],cv = 5)\n",
        "R_CV.fit(X_pca_train,y_train)\n",
        "X_pca_test = pca.transform(X_test)\n",
        "y_pred = R_CV.predict(X_pca_test)\n",
        "r2 = r2_score(y_test,y_pred)\n",
        "r2"
      ],
      "metadata": {
        "colab": {
          "base_uri": "https://localhost:8080/"
        },
        "id": "A09fheEnEGoE",
        "outputId": "8c4d6659-1529-4ea0-f578-805a42c2f966"
      },
      "execution_count": null,
      "outputs": [
        {
          "output_type": "execute_result",
          "data": {
            "text/plain": [
              "0.2963684940402007"
            ]
          },
          "metadata": {},
          "execution_count": 192
        }
      ]
    },
    {
      "cell_type": "code",
      "source": [
        "#@title Q18 [Marks: 6] Use PCA transformed training feature matrix from earlier question and training labels to fit the `RidgeCV` estimator with cv=5 and having alpha values as [0.1,1,10,100,1000,10000]. **Calculate the R2 score you got from the model for PCA transformed test dataset.**{  vertical-output: true, display-mode: \"form\"}\n",
        "#@markdown (upto 4 digits after the decimal)\n",
        "Ans18 = .2963 # @param{type:\"number\"}\n",
        "print(Ans18)"
      ],
      "metadata": {
        "id": "E-5X7voBP9aZ",
        "colab": {
          "base_uri": "https://localhost:8080/"
        },
        "outputId": "5e2ad82b-2249-4f39-ee2f-61194e8a43ec"
      },
      "execution_count": null,
      "outputs": [
        {
          "output_type": "stream",
          "name": "stdout",
          "text": [
            "0.2963\n"
          ]
        }
      ]
    },
    {
      "cell_type": "markdown",
      "source": [
        "# (Common Instructions for Question 19-21)\n",
        "Construct a pipeline to apply following steps\n",
        "* STEP-1 Selecting 10 best features based on the f_regression score function.\n",
        "* STEP-2 Apply Lasso algorithm with random_state=27 on that  \n"
      ],
      "metadata": {
        "id": "jqZunRwb_ocR"
      }
    },
    {
      "cell_type": "code",
      "source": [
        "from sklearn.feature_selection import SelectKBest ,f_regression"
      ],
      "metadata": {
        "id": "b8FTbkC-Jzx3"
      },
      "execution_count": null,
      "outputs": []
    },
    {
      "cell_type": "code",
      "source": [
        "pipe = Pipeline([('sel_k_best',SelectKBest(score_func=f_regression,k=10)),\n",
        " ('lasso',Lasso(random_state=27))])"
      ],
      "metadata": {
        "id": "O59s1yuXKJGo"
      },
      "execution_count": null,
      "outputs": []
    },
    {
      "cell_type": "code",
      "source": [
        "pipe.fit(X_train,y_train)"
      ],
      "metadata": {
        "colab": {
          "base_uri": "https://localhost:8080/",
          "height": 180
        },
        "id": "t9Bcmr1wLLjS",
        "outputId": "39edfa21-33c1-4601-c5c2-bc35867eec37"
      },
      "execution_count": null,
      "outputs": [
        {
          "output_type": "stream",
          "name": "stderr",
          "text": [
            "/usr/local/lib/python3.10/dist-packages/sklearn/linear_model/_coordinate_descent.py:631: ConvergenceWarning: Objective did not converge. You might want to increase the number of iterations, check the scale of the features or consider increasing regularisation. Duality gap: 5.876e+14, tolerance: 1.091e+12\n",
            "  model = cd_fast.enet_coordinate_descent(\n"
          ]
        },
        {
          "output_type": "execute_result",
          "data": {
            "text/plain": [
              "Pipeline(steps=[('sel_k_best',\n",
              "                 SelectKBest(score_func=<function f_regression at 0x79fdc2970790>)),\n",
              "                ('lasso', Lasso(random_state=27))])"
            ],
            "text/html": [
              "<style>#sk-container-id-1 {color: black;background-color: white;}#sk-container-id-1 pre{padding: 0;}#sk-container-id-1 div.sk-toggleable {background-color: white;}#sk-container-id-1 label.sk-toggleable__label {cursor: pointer;display: block;width: 100%;margin-bottom: 0;padding: 0.3em;box-sizing: border-box;text-align: center;}#sk-container-id-1 label.sk-toggleable__label-arrow:before {content: \"▸\";float: left;margin-right: 0.25em;color: #696969;}#sk-container-id-1 label.sk-toggleable__label-arrow:hover:before {color: black;}#sk-container-id-1 div.sk-estimator:hover label.sk-toggleable__label-arrow:before {color: black;}#sk-container-id-1 div.sk-toggleable__content {max-height: 0;max-width: 0;overflow: hidden;text-align: left;background-color: #f0f8ff;}#sk-container-id-1 div.sk-toggleable__content pre {margin: 0.2em;color: black;border-radius: 0.25em;background-color: #f0f8ff;}#sk-container-id-1 input.sk-toggleable__control:checked~div.sk-toggleable__content {max-height: 200px;max-width: 100%;overflow: auto;}#sk-container-id-1 input.sk-toggleable__control:checked~label.sk-toggleable__label-arrow:before {content: \"▾\";}#sk-container-id-1 div.sk-estimator input.sk-toggleable__control:checked~label.sk-toggleable__label {background-color: #d4ebff;}#sk-container-id-1 div.sk-label input.sk-toggleable__control:checked~label.sk-toggleable__label {background-color: #d4ebff;}#sk-container-id-1 input.sk-hidden--visually {border: 0;clip: rect(1px 1px 1px 1px);clip: rect(1px, 1px, 1px, 1px);height: 1px;margin: -1px;overflow: hidden;padding: 0;position: absolute;width: 1px;}#sk-container-id-1 div.sk-estimator {font-family: monospace;background-color: #f0f8ff;border: 1px dotted black;border-radius: 0.25em;box-sizing: border-box;margin-bottom: 0.5em;}#sk-container-id-1 div.sk-estimator:hover {background-color: #d4ebff;}#sk-container-id-1 div.sk-parallel-item::after {content: \"\";width: 100%;border-bottom: 1px solid gray;flex-grow: 1;}#sk-container-id-1 div.sk-label:hover label.sk-toggleable__label {background-color: #d4ebff;}#sk-container-id-1 div.sk-serial::before {content: \"\";position: absolute;border-left: 1px solid gray;box-sizing: border-box;top: 0;bottom: 0;left: 50%;z-index: 0;}#sk-container-id-1 div.sk-serial {display: flex;flex-direction: column;align-items: center;background-color: white;padding-right: 0.2em;padding-left: 0.2em;position: relative;}#sk-container-id-1 div.sk-item {position: relative;z-index: 1;}#sk-container-id-1 div.sk-parallel {display: flex;align-items: stretch;justify-content: center;background-color: white;position: relative;}#sk-container-id-1 div.sk-item::before, #sk-container-id-1 div.sk-parallel-item::before {content: \"\";position: absolute;border-left: 1px solid gray;box-sizing: border-box;top: 0;bottom: 0;left: 50%;z-index: -1;}#sk-container-id-1 div.sk-parallel-item {display: flex;flex-direction: column;z-index: 1;position: relative;background-color: white;}#sk-container-id-1 div.sk-parallel-item:first-child::after {align-self: flex-end;width: 50%;}#sk-container-id-1 div.sk-parallel-item:last-child::after {align-self: flex-start;width: 50%;}#sk-container-id-1 div.sk-parallel-item:only-child::after {width: 0;}#sk-container-id-1 div.sk-dashed-wrapped {border: 1px dashed gray;margin: 0 0.4em 0.5em 0.4em;box-sizing: border-box;padding-bottom: 0.4em;background-color: white;}#sk-container-id-1 div.sk-label label {font-family: monospace;font-weight: bold;display: inline-block;line-height: 1.2em;}#sk-container-id-1 div.sk-label-container {text-align: center;}#sk-container-id-1 div.sk-container {/* jupyter's `normalize.less` sets `[hidden] { display: none; }` but bootstrap.min.css set `[hidden] { display: none !important; }` so we also need the `!important` here to be able to override the default hidden behavior on the sphinx rendered scikit-learn.org. See: https://github.com/scikit-learn/scikit-learn/issues/21755 */display: inline-block !important;position: relative;}#sk-container-id-1 div.sk-text-repr-fallback {display: none;}</style><div id=\"sk-container-id-1\" class=\"sk-top-container\"><div class=\"sk-text-repr-fallback\"><pre>Pipeline(steps=[(&#x27;sel_k_best&#x27;,\n",
              "                 SelectKBest(score_func=&lt;function f_regression at 0x79fdc2970790&gt;)),\n",
              "                (&#x27;lasso&#x27;, Lasso(random_state=27))])</pre><b>In a Jupyter environment, please rerun this cell to show the HTML representation or trust the notebook. <br />On GitHub, the HTML representation is unable to render, please try loading this page with nbviewer.org.</b></div><div class=\"sk-container\" hidden><div class=\"sk-item sk-dashed-wrapped\"><div class=\"sk-label-container\"><div class=\"sk-label sk-toggleable\"><input class=\"sk-toggleable__control sk-hidden--visually\" id=\"sk-estimator-id-1\" type=\"checkbox\" ><label for=\"sk-estimator-id-1\" class=\"sk-toggleable__label sk-toggleable__label-arrow\">Pipeline</label><div class=\"sk-toggleable__content\"><pre>Pipeline(steps=[(&#x27;sel_k_best&#x27;,\n",
              "                 SelectKBest(score_func=&lt;function f_regression at 0x79fdc2970790&gt;)),\n",
              "                (&#x27;lasso&#x27;, Lasso(random_state=27))])</pre></div></div></div><div class=\"sk-serial\"><div class=\"sk-item\"><div class=\"sk-estimator sk-toggleable\"><input class=\"sk-toggleable__control sk-hidden--visually\" id=\"sk-estimator-id-2\" type=\"checkbox\" ><label for=\"sk-estimator-id-2\" class=\"sk-toggleable__label sk-toggleable__label-arrow\">SelectKBest</label><div class=\"sk-toggleable__content\"><pre>SelectKBest(score_func=&lt;function f_regression at 0x79fdc2970790&gt;)</pre></div></div></div><div class=\"sk-item\"><div class=\"sk-estimator sk-toggleable\"><input class=\"sk-toggleable__control sk-hidden--visually\" id=\"sk-estimator-id-3\" type=\"checkbox\" ><label for=\"sk-estimator-id-3\" class=\"sk-toggleable__label sk-toggleable__label-arrow\">Lasso</label><div class=\"sk-toggleable__content\"><pre>Lasso(random_state=27)</pre></div></div></div></div></div></div></div>"
            ]
          },
          "metadata": {},
          "execution_count": 196
        }
      ]
    },
    {
      "cell_type": "code",
      "source": [
        "selected_features = pipe.named_steps['sel_k_best'].get_support()\n",
        "p_values = pipe.named_steps['sel_k_best'].pvalues_\n",
        "p_values.max()"
      ],
      "metadata": {
        "colab": {
          "base_uri": "https://localhost:8080/"
        },
        "id": "aNvPu_ByLho0",
        "outputId": "bd27e6af-a434-4543-f538-004b7b252c1c"
      },
      "execution_count": null,
      "outputs": [
        {
          "output_type": "execute_result",
          "data": {
            "text/plain": [
              "0.841406848285681"
            ]
          },
          "metadata": {},
          "execution_count": 199
        }
      ]
    },
    {
      "cell_type": "code",
      "source": [
        "#@title Q19[Marks: 5] What is the max P-VALUE you got for any feature of the train dataset?(upto 4 digits after the decimal){  vertical-output: true, display-mode: \"form\"}\n",
        "Ans19 = 0.8415 # @param{type:\"number\"}\n",
        "print(Ans19)"
      ],
      "metadata": {
        "id": "C5Ku_lKrFMwS",
        "colab": {
          "base_uri": "https://localhost:8080/"
        },
        "outputId": "587b9122-9cab-435e-95d9-37538a0e30a2"
      },
      "execution_count": null,
      "outputs": [
        {
          "output_type": "stream",
          "name": "stdout",
          "text": [
            "0.8415\n"
          ]
        }
      ]
    },
    {
      "cell_type": "code",
      "source": [
        "max_f_statistic = np.max(pipe.named_steps['sel_k_best'].scores_)\n",
        "print(f\"Q2: Max F_STATISTICS Score: {max_f_statistic:.4f}\")"
      ],
      "metadata": {
        "colab": {
          "base_uri": "https://localhost:8080/"
        },
        "id": "Ig-1XGDpMDlM",
        "outputId": "6b1fe5a0-ed4a-48dc-894b-5eb61026603c"
      },
      "execution_count": null,
      "outputs": [
        {
          "output_type": "stream",
          "name": "stdout",
          "text": [
            "Q2: Max F_STATISTICS Score: 21322.2920\n"
          ]
        }
      ]
    },
    {
      "cell_type": "code",
      "source": [
        "#@title Q20[Marks: 5] What is the max F_STATISTICS score you got for any feature of the train dataset? [NAT] (upto 2 digits after the decimal){vertical-output: true, display-mode: \"form\"}\n",
        "Ans20 = 21322.29 # @param{type:\"number\"}\n",
        "print(Ans20)"
      ],
      "metadata": {
        "id": "9bvJLAC6G12q",
        "colab": {
          "base_uri": "https://localhost:8080/"
        },
        "outputId": "a929a924-931e-498c-99cb-76198d0b53e6"
      },
      "execution_count": null,
      "outputs": [
        {
          "output_type": "stream",
          "name": "stdout",
          "text": [
            "21322.29\n"
          ]
        }
      ]
    },
    {
      "cell_type": "code",
      "source": [
        "y_pred = pipe.predict(X_test)\n",
        "r2 = r2_score(y_test, y_pred)\n",
        "print(f\"Q3: R2 Score on Test Dataset: {r2:.4f}\")\n",
        "\n"
      ],
      "metadata": {
        "colab": {
          "base_uri": "https://localhost:8080/"
        },
        "id": "m1z75YhOMYew",
        "outputId": "3b34ea11-8088-4a2f-a16a-98591ee3032a"
      },
      "execution_count": null,
      "outputs": [
        {
          "output_type": "stream",
          "name": "stdout",
          "text": [
            "Q3: R2 Score on Test Dataset: 0.6520\n"
          ]
        }
      ]
    },
    {
      "cell_type": "code",
      "source": [
        "#@title Q21[Marks: 5] What is the R2 score you got for this model using test dataset? [NAT] (upto 4 digits after the decimal){ vertical-output: true, display-mode: \"form\"}\n",
        "Ans21 = .6520 # @param{type:\"number\"}\n",
        "print(Ans21)"
      ],
      "metadata": {
        "id": "FVIVqi8jLdIX",
        "colab": {
          "base_uri": "https://localhost:8080/"
        },
        "outputId": "3c53e410-93b4-4161-9820-b57370798e5c"
      },
      "execution_count": null,
      "outputs": [
        {
          "output_type": "stream",
          "name": "stdout",
          "text": [
            "0.652\n"
          ]
        }
      ]
    }
  ]
}