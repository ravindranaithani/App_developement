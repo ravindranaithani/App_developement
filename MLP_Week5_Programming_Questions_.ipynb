{
  "nbformat": 4,
  "nbformat_minor": 0,
  "metadata": {
    "colab": {
      "provenance": [],
      "include_colab_link": true
    },
    "kernelspec": {
      "name": "python3",
      "display_name": "Python 3"
    },
    "language_info": {
      "name": "python"
    }
  },
  "cells": [
    {
      "cell_type": "markdown",
      "metadata": {
        "id": "view-in-github",
        "colab_type": "text"
      },
      "source": [
        "<a href=\"https://colab.research.google.com/github/ravindranaithani/App_developement/blob/main/MLP_Week5_Programming_Questions_.ipynb\" target=\"_parent\"><img src=\"https://colab.research.google.com/assets/colab-badge.svg\" alt=\"Open In Colab\"/></a>"
      ]
    },
    {
      "cell_type": "markdown",
      "source": [
        "# Practice Questions"
      ],
      "metadata": {
        "id": "k0PY-Pf_JXEj"
      }
    },
    {
      "cell_type": "markdown",
      "source": [
        "Question Group: 22T1_MLP_W5_PP\n",
        "\n",
        "Total # of questiosn: 6"
      ],
      "metadata": {
        "id": "aeoWxrsGUkHL"
      }
    },
    {
      "cell_type": "code",
      "source": [
        "import numpy as np\n",
        "import pandas as pd\n",
        "import seaborn as sns\n",
        "import matplotlib.pyplot as plt\n",
        "from sklearn.datasets import fetch_openml"
      ],
      "metadata": {
        "id": "Ykc9zEKBgdng"
      },
      "execution_count": 79,
      "outputs": []
    },
    {
      "cell_type": "code",
      "source": [
        "X1,y1 = fetch_openml('mnist_784',version = 1,return_X_y = True,as_frame = True)"
      ],
      "metadata": {
        "colab": {
          "base_uri": "https://localhost:8080/"
        },
        "id": "hdtlWiaEgxea",
        "outputId": "3b153eec-951b-41ff-c817-a43045a19f2d"
      },
      "execution_count": 83,
      "outputs": [
        {
          "output_type": "stream",
          "name": "stderr",
          "text": [
            "/usr/local/lib/python3.10/dist-packages/sklearn/datasets/_openml.py:968: FutureWarning: The default value of `parser` will change from `'liac-arff'` to `'auto'` in 1.4. You can set `parser='auto'` to silence this warning. Therefore, an `ImportError` will be raised from 1.4 if the dataset is dense and pandas is not installed. Note that the pandas parser may return different data types. See the Notes Section in fetch_openml's API doc for details.\n",
            "  warn(\n"
          ]
        }
      ]
    },
    {
      "cell_type": "code",
      "source": [
        "X1.shape[0],type(X1),type(y1),y1.shape"
      ],
      "metadata": {
        "colab": {
          "base_uri": "https://localhost:8080/"
        },
        "id": "FedKCu73iV6L",
        "outputId": "3b078fa9-7dbe-4956-ffe4-9b0b7b6dd4dd"
      },
      "execution_count": 84,
      "outputs": [
        {
          "output_type": "execute_result",
          "data": {
            "text/plain": [
              "(70000, pandas.core.frame.DataFrame, pandas.core.series.Series, (70000,))"
            ]
          },
          "metadata": {},
          "execution_count": 84
        }
      ]
    },
    {
      "cell_type": "markdown",
      "source": [
        "## Que 1.\n",
        "\n",
        "[1 point] Load the MNIST dataset (mnist_784, version=1) from openml. How many number of samples are there in the dataset?\n",
        "[NAT]\n",
        "**Ans:70000**"
      ],
      "metadata": {
        "id": "5pMkFmlcSHsd"
      }
    },
    {
      "cell_type": "code",
      "source": [
        "X1.shape[0]"
      ],
      "metadata": {
        "colab": {
          "base_uri": "https://localhost:8080/"
        },
        "id": "6FVEqhW8iuRF",
        "outputId": "ff07eef4-c70c-4b48-f29b-1b9037ca2c6b"
      },
      "execution_count": 85,
      "outputs": [
        {
          "output_type": "execute_result",
          "data": {
            "text/plain": [
              "70000"
            ]
          },
          "metadata": {},
          "execution_count": 85
        }
      ]
    },
    {
      "cell_type": "markdown",
      "source": [
        "**Solution**"
      ],
      "metadata": {
        "id": "Mq7aDgWwmgeM"
      }
    },
    {
      "cell_type": "code",
      "source": [
        "import sys\n",
        "import sklearn\n",
        "import numpy as np\n",
        "import seaborn as sns\n",
        "from matplotlib import pyplot as plt\n",
        "from sklearn.datasets import fetch_openml\n",
        "import ssl\n",
        "try:\n",
        "    _create_unverified_https_context = ssl._create_unverified_context\n",
        "except AttributeError:\n",
        "    pass\n",
        "else:\n",
        "    ssl._create_default_https_context = _create_unverified_https_context\n",
        "\n",
        "X,y= fetch_openml('mnist_784',version=1,return_X_y=True)\n",
        "X = X.to_numpy()\n",
        "y = y.to_numpy()\n",
        "print(X.shape)\n"
      ],
      "metadata": {
        "id": "vRSFaiQ6K_VI",
        "colab": {
          "base_uri": "https://localhost:8080/"
        },
        "outputId": "081fdf85-f1b9-4261-dc62-b3f9eb138e58"
      },
      "execution_count": 86,
      "outputs": [
        {
          "output_type": "stream",
          "name": "stderr",
          "text": [
            "/usr/local/lib/python3.10/dist-packages/sklearn/datasets/_openml.py:968: FutureWarning: The default value of `parser` will change from `'liac-arff'` to `'auto'` in 1.4. You can set `parser='auto'` to silence this warning. Therefore, an `ImportError` will be raised from 1.4 if the dataset is dense and pandas is not installed. Note that the pandas parser may return different data types. See the Notes Section in fetch_openml's API doc for details.\n",
            "  warn(\n"
          ]
        },
        {
          "output_type": "stream",
          "name": "stdout",
          "text": [
            "(70000, 784)\n"
          ]
        }
      ]
    },
    {
      "cell_type": "code",
      "source": [
        "np.random.seed(42)"
      ],
      "metadata": {
        "id": "GrXCNm4PEoda"
      },
      "execution_count": 87,
      "outputs": []
    },
    {
      "cell_type": "markdown",
      "source": [
        "## Que 2.\n",
        "[2 point] Access the sample at the index 2022.\n",
        "\n",
        "    * What is the label of the sample?\n",
        "\n",
        "    * What is the mean value of the sample?\n",
        "    \n",
        "    * How many zeros are there in the sample?\n",
        "\n",
        "Pack the answer in a tuple like (label,mean,num_zeros)."
      ],
      "metadata": {
        "id": "2-d528zSTGj5"
      }
    },
    {
      "cell_type": "code",
      "source": [
        "X1.shape[1] - np.count_nonzero(X1.iloc[2022,:])"
      ],
      "metadata": {
        "colab": {
          "base_uri": "https://localhost:8080/"
        },
        "id": "cBVHGsQklSSl",
        "outputId": "58202dfb-a62a-4399-bb0f-a7df1463442a"
      },
      "execution_count": 89,
      "outputs": [
        {
          "output_type": "execute_result",
          "data": {
            "text/plain": [
              "643"
            ]
          },
          "metadata": {},
          "execution_count": 89
        }
      ]
    },
    {
      "cell_type": "code",
      "source": [
        "y1[2022],X1.iloc[2022,:].mean()"
      ],
      "metadata": {
        "colab": {
          "base_uri": "https://localhost:8080/"
        },
        "id": "y1P2m2tQkUXj",
        "outputId": "79637367-6d70-4539-f014-8ccdded955ec"
      },
      "execution_count": 90,
      "outputs": [
        {
          "output_type": "execute_result",
          "data": {
            "text/plain": [
              "('2', 27.761479591836736)"
            ]
          },
          "metadata": {},
          "execution_count": 90
        }
      ]
    },
    {
      "cell_type": "markdown",
      "source": [
        "Options: <br>\n",
        "1. (2,27.76,700) <br>\n",
        "2. (1,0,680) <br>\n",
        "3. (2,27.76,643) <br>\n",
        "4. (2,30,128) <br>\n",
        "\n",
        "**Ans: 3**"
      ],
      "metadata": {
        "id": "KwuP92UtsdI3"
      }
    },
    {
      "cell_type": "markdown",
      "source": [
        "**Solution:**"
      ],
      "metadata": {
        "id": "CCjXh0zqUu2J"
      }
    },
    {
      "cell_type": "code",
      "source": [
        "x = X[2022,:]\n",
        "label = y[2022]\n",
        "mean = np.round(np.mean(x),2)\n",
        "maximum = np.max(x)\n",
        "num_zeros = x.size - np.count_nonzero(x)\n",
        "print(\"label:{0} \\tmean:{1} \\tmax:{2} \\tnumber of zeros:{3}\".format(label,mean,maximum,num_zeros))"
      ],
      "metadata": {
        "colab": {
          "base_uri": "https://localhost:8080/"
        },
        "id": "ln43k04bUpaK",
        "outputId": "ee95d0a8-3924-44fb-d298-a4df0aa15a0d"
      },
      "execution_count": 91,
      "outputs": [
        {
          "output_type": "stream",
          "name": "stdout",
          "text": [
            "label:2 \tmean:27.76 \tmax:254.0 \tnumber of zeros:643\n"
          ]
        }
      ]
    },
    {
      "cell_type": "code",
      "source": [
        " unique_value , counts = np.unique(y1,return_counts = True )\n",
        " unique_value"
      ],
      "metadata": {
        "colab": {
          "base_uri": "https://localhost:8080/"
        },
        "id": "yILvobAinIyW",
        "outputId": "33b12a94-d3ff-414e-d504-5fc6d8928eaf"
      },
      "execution_count": 92,
      "outputs": [
        {
          "output_type": "execute_result",
          "data": {
            "text/plain": [
              "array(['0', '1', '2', '3', '4', '5', '6', '7', '8', '9'], dtype=object)"
            ]
          },
          "metadata": {},
          "execution_count": 92
        }
      ]
    },
    {
      "cell_type": "code",
      "source": [
        "plt.bar(unique_value,counts)\n",
        "plt.xlabel('Class',fontsize=14)\n",
        "plt.ylabel('Counts',fontsize = 14)\n",
        "plt.title(\"Distribution of class in mnist_784\")\n",
        "plt.show()"
      ],
      "metadata": {
        "colab": {
          "base_uri": "https://localhost:8080/",
          "height": 477
        },
        "id": "xJRTtI2bpdl0",
        "outputId": "ee79c7f1-92ed-420f-f11e-caffb69024cc"
      },
      "execution_count": 93,
      "outputs": [
        {
          "output_type": "display_data",
          "data": {
            "text/plain": [
              "<Figure size 640x480 with 1 Axes>"
            ],
            "image/png": "[encoded data removed]"
          },
          "metadata": {}
        }
      ]
    },
    {
      "cell_type": "markdown",
      "source": [
        "## Que 3.\n",
        "\n",
        "[4 points] Create a dataset by taking first 10000  images for training and next 2000 images for testing from the original dataset. Answer the following questions.\n",
        "\n",
        "  * How many unique classes are there in the training set?\n",
        "  * The number of training samples for the digit-6 are?\n",
        "  * The number of training samples for the digit-9 are?\n",
        "  * How many unique classes are there in the test set?\n",
        "  * Which class has more number of test samples?\n",
        "\n",
        "Pack the answers in a tuple like (2, 1000, 800, 5, 7).\n",
        "\n",
        "Options: <br>\n",
        "1. (5, 2000, 1100, 3, 1) <br>\n",
        "2. (10, 1014, 978, 10, 1) <br>\n",
        "3. (10, 1089, 978, 10, 2) <br>\n",
        "4. (10, 1014, 988, 10, 3) <br>\n",
        "\n",
        "**Ans: 2**"
      ],
      "metadata": {
        "id": "FumBaz_tYkT2"
      }
    },
    {
      "cell_type": "markdown",
      "source": [
        "**Solution:**"
      ],
      "metadata": {
        "id": "j7a4Dwu1U7uH"
      }
    },
    {
      "cell_type": "code",
      "source": [
        "X1_train,X1_test = X1.iloc[:10000,:],X1.iloc[10000:12000]\n",
        "print(X1_train.shape,X1_test.shape)\n",
        "#_________________________________________________\n",
        "y1_train,y1_test = y1[:10000].astype(int), y1[10000:12000].astype(int)\n",
        "print(y1_train.shape,y1_test.shape)"
      ],
      "metadata": {
        "colab": {
          "base_uri": "https://localhost:8080/"
        },
        "id": "W2Nvp7nVuz8o",
        "outputId": "a8b992a2-9f48-4aea-88fa-642c3629e9f8"
      },
      "execution_count": 95,
      "outputs": [
        {
          "output_type": "stream",
          "name": "stdout",
          "text": [
            "(10000, 784) (2000, 784)\n",
            "(10000,) (2000,)\n"
          ]
        }
      ]
    },
    {
      "cell_type": "code",
      "source": [
        "unique_value,counts = np.unique(y1_train,return_counts=True)\n",
        "len(unique_value),counts[6],counts[9],counts.max(),np.argmax(counts)"
      ],
      "metadata": {
        "colab": {
          "base_uri": "https://localhost:8080/"
        },
        "id": "RRYxu276wanb",
        "outputId": "cfe8efa3-81df-43c8-9d7a-f0dadd88d047"
      },
      "execution_count": 96,
      "outputs": [
        {
          "output_type": "execute_result",
          "data": {
            "text/plain": [
              "(10, 1014, 978, 1127, 1)"
            ]
          },
          "metadata": {},
          "execution_count": 96
        }
      ]
    },
    {
      "cell_type": "code",
      "source": [
        "x_train = X[:10000]\n",
        "x_test = X[10000:12000]\n",
        "y_train = y[:10000].astype(np.int8)\n",
        "y_test = y[10000:12000]\n",
        "train_uniq = np.unique(y_train)\n",
        "print('Unique classes in training set:',len(train_uniq))\n",
        "test_uniq = np.unique(y_test)\n",
        "print('Unique classes in testing set:',len(test_uniq))\n",
        "count,bins = np.histogram(y_train,bins=10)\n",
        "print(count)\n",
        "print('Number of samples for dig-6 are:',count[6])\n",
        "print('Number of samples for dig-9 are:',count[9])\n",
        "count,bins = np.histogram(y_test.astype(np.int8),bins=10)\n",
        "#print(count)\n",
        "max_cls = np.argmax(count)\n",
        "print('The class having more num of testing samples is: ',max_cls)"
      ],
      "metadata": {
        "id": "5d-XSnZ9bTAF",
        "colab": {
          "base_uri": "https://localhost:8080/"
        },
        "outputId": "b41b38e7-0a37-439c-bdc0-2a95c274772c"
      },
      "execution_count": 97,
      "outputs": [
        {
          "output_type": "stream",
          "name": "stdout",
          "text": [
            "Unique classes in training set: 10\n",
            "Unique classes in testing set: 10\n",
            "[1001 1127  991 1032  980  863 1014 1070  944  978]\n",
            "Number of samples for dig-6 are: 1014\n",
            "Number of samples for dig-9 are: 978\n",
            "The class having more num of testing samples is:  1\n"
          ]
        }
      ]
    },
    {
      "cell_type": "markdown",
      "source": [
        "Unique classes in training set: 10\n",
        "Unique classes in testing set: 10\n",
        "[1001 1127  991 1032  980  863 1014 1070  944  978]\n",
        "Number of samples for dig-6 are: 1014\n",
        "Number of samples for dig-9 are: 978\n",
        "The class having more num of testing samples is:  1"
      ],
      "metadata": {
        "id": "X4NVMqFzaHW6"
      }
    },
    {
      "cell_type": "markdown",
      "source": [
        "## Que 4.\n",
        "\n",
        "[4 points] Consider the above modified training and testing sets with first 10000  images for training and next 2000 images for testing.\n",
        "   * Steps to be followed\n",
        "      * Collect all digit-6 (Positive class) and digit-9 (Negative class) images and stack them properly as a single datamatrix.\n",
        "      *By convention, keep all digit-6 images from index 0 to i followed by digit-9 images from index i+1 to n (i denotes the end index of digit-6 images)\n",
        "      * Similarly, collect the respective labels and store it in a variable (Do sanity check).\n",
        "      * Set the label values to 1 for positive classes and -1 for negative classes.\n",
        "      * Load `from sklearn.utils import shuffle`\n",
        "      *  Shuffle the datamatrix and labels. (Set `random_state` value to 1729). <br>\n",
        "\n",
        " what are the first three labels starting from the index 0?. Select from the following options,\n",
        "\n",
        "Options: <br>\n",
        "1. (1,-1,1) <br>\n",
        "2. (1,1,-1) <br>\n",
        "3. (1,-1,-1) <br>\n",
        "4. (-1,-1,1) <br>\n",
        "5. None of them\n",
        "\n",
        "Ans: 3"
      ],
      "metadata": {
        "id": "xzIWwagJuqzX"
      }
    },
    {
      "cell_type": "markdown",
      "source": [
        "**Solution:**"
      ],
      "metadata": {
        "id": "tKTIy11Sqb7M"
      }
    },
    {
      "cell_type": "code",
      "source": [
        "from sklearn.utils import shuffle"
      ],
      "metadata": {
        "id": "m3DcBCfw6KYz"
      },
      "execution_count": 98,
      "outputs": []
    },
    {
      "cell_type": "code",
      "source": [
        "# from Pandas Dataframe\n",
        "digit_6_images = X1_train[y1_train == 6]\n",
        "digit_9_images = X1_train[y1_train == 9]\n",
        "digit_6_labels = np.ones(len(digit_6_images))\n",
        "digit_9_labels = -1 * np.ones(len(digit_9_images))\n",
        "new_X1_train = pd.concat([digit_6_images,digit_9_images],axis = 0)\n",
        "new_y1_train = np.concatenate([digit_6_labels,digit_9_labels])\n",
        "new_X1_train , new_y1_train = shuffle(new_X1_train,new_y1_train)\n",
        "\n"
      ],
      "metadata": {
        "id": "0gowTUKx4VlL"
      },
      "execution_count": 99,
      "outputs": []
    },
    {
      "cell_type": "code",
      "source": [
        "# sanity check\n",
        "print(\"Shape of new_X1_train:\", new_X1_train.shape)\n",
        "print(\"Shape of new_y1_train:\", new_y1_train.shape)\n",
        "print(\"Unique values in new_y1:\", np.unique(new_y1_train))"
      ],
      "metadata": {
        "colab": {
          "base_uri": "https://localhost:8080/"
        },
        "id": "jjoHJtFA6jL3",
        "outputId": "ac39b546-05c4-4276-db6f-61a4c3ec60fc"
      },
      "execution_count": 100,
      "outputs": [
        {
          "output_type": "stream",
          "name": "stdout",
          "text": [
            "Shape of new_X1_train: (1992, 784)\n",
            "Shape of new_y1_train: (1992,)\n",
            "Unique values in new_y1: [-1.  1.]\n"
          ]
        }
      ]
    },
    {
      "cell_type": "code",
      "source": [
        "# get the index of dig6 and dig_9\n",
        "dig_6_idx = np.where(y_train == 6)[0]\n",
        "dig_9_idx = np.where(y_train == 9)[0]\n",
        "index = np.concatenate((dig_6_idx,dig_9_idx),axis=0)\n",
        "# get all samples from the index array\n",
        "x_train1 = x_train[index,:]\n",
        "# create the label vector\n",
        "y_train1 = np.concatenate((np.ones(len(dig_6_idx)),-1*np.ones(len(dig_9_idx))))\n",
        "\n",
        "from sklearn.utils import shuffle\n",
        "x_train1,y_train1 = shuffle(x_train1,y_train1,random_state=1729)\n",
        "print('The first three labels starting from the index 0 are',y_train1[:3])"
      ],
      "metadata": {
        "id": "MbquDbP6h1TY",
        "colab": {
          "base_uri": "https://localhost:8080/"
        },
        "outputId": "723ef49d-a870-44a6-ad0c-ebdd9ea511cd"
      },
      "execution_count": 101,
      "outputs": [
        {
          "output_type": "stream",
          "name": "stdout",
          "text": [
            "The first three labels starting from the index 0 are [ 1. -1. -1.]\n"
          ]
        }
      ]
    },
    {
      "cell_type": "markdown",
      "source": [
        "## Que 5.\n",
        "\n",
        "[4 Points] Instantiate a perceptron classifier that meets the following requirements\n",
        "  * random_state = 1729\n",
        "  * learning rate = 1\n",
        "  * Train for 10 iterations (epoch)\n",
        "  * Set shuffle the dataset for each epoch (iteration) as False.\n",
        "  * Include the intercept (bias) term.\n",
        "  * No regularization <br>\n",
        "\n",
        "Fit the perceptron classifier on the training dataset. What is the value of $w$ for the 70th feature after 10 iterations?\n",
        "\n",
        "(Note: Indexing for coefficient starts from 0. Don't worry if it raises a convergence warning)\n",
        "\n",
        "Options : <br>\n",
        "1. 605.0\n",
        "2. 608.0\n",
        "3. 60.50\n",
        "4. 6.08\n",
        "\n",
        "**Ans: 1**\n",
        "\n",
        "\n"
      ],
      "metadata": {
        "id": "ian4FZThA-94"
      }
    },
    {
      "cell_type": "markdown",
      "source": [
        "**Solution:**"
      ],
      "metadata": {
        "id": "O0gsHzZjVrfU"
      }
    },
    {
      "cell_type": "code",
      "source": [
        "from sklearn.linear_model import Perceptron\n",
        "clf = Perceptron(random_state = 1729,eta0=1,max_iter = 10,shuffle = False,penalty = None,validation_fraction = 0.1)"
      ],
      "metadata": {
        "id": "aYX8Ti418rvC"
      },
      "execution_count": 102,
      "outputs": []
    },
    {
      "cell_type": "code",
      "source": [
        "clf.get_params()"
      ],
      "metadata": {
        "colab": {
          "base_uri": "https://localhost:8080/"
        },
        "id": "b5mWAzQ89-Ik",
        "outputId": "a95bb5f6-ead1-4f3b-e8b3-924497adfcbd"
      },
      "execution_count": null,
      "outputs": [
        {
          "output_type": "execute_result",
          "data": {
            "text/plain": [
              "{'alpha': 0.0001,\n",
              " 'class_weight': None,\n",
              " 'early_stopping': False,\n",
              " 'eta0': 1,\n",
              " 'fit_intercept': True,\n",
              " 'l1_ratio': 0.15,\n",
              " 'max_iter': 10,\n",
              " 'n_iter_no_change': 5,\n",
              " 'n_jobs': None,\n",
              " 'penalty': None,\n",
              " 'random_state': 1729,\n",
              " 'shuffle': False,\n",
              " 'tol': 0.001,\n",
              " 'validation_fraction': 0.1,\n",
              " 'verbose': 0,\n",
              " 'warm_start': False}"
            ]
          },
          "metadata": {},
          "execution_count": 60
        }
      ]
    },
    {
      "cell_type": "code",
      "source": [
        "clf.fit(new_X1_train,new_y1_train)"
      ],
      "metadata": {
        "colab": {
          "base_uri": "https://localhost:8080/",
          "height": 129
        },
        "id": "sb2t1iyj-00o",
        "outputId": "d3495aef-fcfe-4cd5-d2bb-221fe3f93579"
      },
      "execution_count": 109,
      "outputs": [
        {
          "output_type": "stream",
          "name": "stderr",
          "text": [
            "/usr/local/lib/python3.10/dist-packages/sklearn/linear_model/_stochastic_gradient.py:702: ConvergenceWarning: Maximum number of iteration reached before convergence. Consider increasing max_iter to improve the fit.\n",
            "  warnings.warn(\n"
          ]
        },
        {
          "output_type": "execute_result",
          "data": {
            "text/plain": [
              "Perceptron(eta0=1, max_iter=10, random_state=1729, shuffle=False)"
            ],
            "text/html": [
              "<style>#sk-container-id-6 {color: black;background-color: white;}#sk-container-id-6 pre{padding: 0;}#sk-container-id-6 div.sk-toggleable {background-color: white;}#sk-container-id-6 label.sk-toggleable__label {cursor: pointer;display: block;width: 100%;margin-bottom: 0;padding: 0.3em;box-sizing: border-box;text-align: center;}#sk-container-id-6 label.sk-toggleable__label-arrow:before {content: \"▸\";float: left;margin-right: 0.25em;color: #696969;}#sk-container-id-6 label.sk-toggleable__label-arrow:hover:before {color: black;}#sk-container-id-6 div.sk-estimator:hover label.sk-toggleable__label-arrow:before {color: black;}#sk-container-id-6 div.sk-toggleable__content {max-height: 0;max-width: 0;overflow: hidden;text-align: left;background-color: #f0f8ff;}#sk-container-id-6 div.sk-toggleable__content pre {margin: 0.2em;color: black;border-radius: 0.25em;background-color: #f0f8ff;}#sk-container-id-6 input.sk-toggleable__control:checked~div.sk-toggleable__content {max-height: 200px;max-width: 100%;overflow: auto;}#sk-container-id-6 input.sk-toggleable__control:checked~label.sk-toggleable__label-arrow:before {content: \"▾\";}#sk-container-id-6 div.sk-estimator input.sk-toggleable__control:checked~label.sk-toggleable__label {background-color: #d4ebff;}#sk-container-id-6 div.sk-label input.sk-toggleable__control:checked~label.sk-toggleable__label {background-color: #d4ebff;}#sk-container-id-6 input.sk-hidden--visually {border: 0;clip: rect(1px 1px 1px 1px);clip: rect(1px, 1px, 1px, 1px);height: 1px;margin: -1px;overflow: hidden;padding: 0;position: absolute;width: 1px;}#sk-container-id-6 div.sk-estimator {font-family: monospace;background-color: #f0f8ff;border: 1px dotted black;border-radius: 0.25em;box-sizing: border-box;margin-bottom: 0.5em;}#sk-container-id-6 div.sk-estimator:hover {background-color: #d4ebff;}#sk-container-id-6 div.sk-parallel-item::after {content: \"\";width: 100%;border-bottom: 1px solid gray;flex-grow: 1;}#sk-container-id-6 div.sk-label:hover label.sk-toggleable__label {background-color: #d4ebff;}#sk-container-id-6 div.sk-serial::before {content: \"\";position: absolute;border-left: 1px solid gray;box-sizing: border-box;top: 0;bottom: 0;left: 50%;z-index: 0;}#sk-container-id-6 div.sk-serial {display: flex;flex-direction: column;align-items: center;background-color: white;padding-right: 0.2em;padding-left: 0.2em;position: relative;}#sk-container-id-6 div.sk-item {position: relative;z-index: 1;}#sk-container-id-6 div.sk-parallel {display: flex;align-items: stretch;justify-content: center;background-color: white;position: relative;}#sk-container-id-6 div.sk-item::before, #sk-container-id-6 div.sk-parallel-item::before {content: \"\";position: absolute;border-left: 1px solid gray;box-sizing: border-box;top: 0;bottom: 0;left: 50%;z-index: -1;}#sk-container-id-6 div.sk-parallel-item {display: flex;flex-direction: column;z-index: 1;position: relative;background-color: white;}#sk-container-id-6 div.sk-parallel-item:first-child::after {align-self: flex-end;width: 50%;}#sk-container-id-6 div.sk-parallel-item:last-child::after {align-self: flex-start;width: 50%;}#sk-container-id-6 div.sk-parallel-item:only-child::after {width: 0;}#sk-container-id-6 div.sk-dashed-wrapped {border: 1px dashed gray;margin: 0 0.4em 0.5em 0.4em;box-sizing: border-box;padding-bottom: 0.4em;background-color: white;}#sk-container-id-6 div.sk-label label {font-family: monospace;font-weight: bold;display: inline-block;line-height: 1.2em;}#sk-container-id-6 div.sk-label-container {text-align: center;}#sk-container-id-6 div.sk-container {/* jupyter's `normalize.less` sets `[hidden] { display: none; }` but bootstrap.min.css set `[hidden] { display: none !important; }` so we also need the `!important` here to be able to override the default hidden behavior on the sphinx rendered scikit-learn.org. See: https://github.com/scikit-learn/scikit-learn/issues/21755 */display: inline-block !important;position: relative;}#sk-container-id-6 div.sk-text-repr-fallback {display: none;}</style><div id=\"sk-container-id-6\" class=\"sk-top-container\"><div class=\"sk-text-repr-fallback\"><pre>Perceptron(eta0=1, max_iter=10, random_state=1729, shuffle=False)</pre><b>In a Jupyter environment, please rerun this cell to show the HTML representation or trust the notebook. <br />On GitHub, the HTML representation is unable to render, please try loading this page with nbviewer.org.</b></div><div class=\"sk-container\" hidden><div class=\"sk-item\"><div class=\"sk-estimator sk-toggleable\"><input class=\"sk-toggleable__control sk-hidden--visually\" id=\"sk-estimator-id-6\" type=\"checkbox\" checked><label for=\"sk-estimator-id-6\" class=\"sk-toggleable__label sk-toggleable__label-arrow\">Perceptron</label><div class=\"sk-toggleable__content\"><pre>Perceptron(eta0=1, max_iter=10, random_state=1729, shuffle=False)</pre></div></div></div></div></div>"
            ]
          },
          "metadata": {},
          "execution_count": 109
        }
      ]
    },
    {
      "cell_type": "code",
      "source": [
        "print('The value of the weight for the 69th feature is: ',clf.coef_[0,69])"
      ],
      "metadata": {
        "colab": {
          "base_uri": "https://localhost:8080/"
        },
        "id": "hk-_nCoo_QmM",
        "outputId": "8175a408-e3ce-4203-93a4-36a1cf9ad541"
      },
      "execution_count": 110,
      "outputs": [
        {
          "output_type": "stream",
          "name": "stdout",
          "text": [
            "The value of the weight for the 69th feature is:  227.0\n"
          ]
        }
      ]
    },
    {
      "cell_type": "code",
      "source": [
        "from sklearn.linear_model import Perceptron\n",
        "clf = Perceptron(random_state=1729,\n",
        "                 eta0=1,max_iter=10,\n",
        "                 shuffle=False,\n",
        "                 validation_fraction=0.1,\n",
        "                 fit_intercept=True,\n",
        "                 penalty=None,\n",
        "                 warm_start=False)"
      ],
      "metadata": {
        "id": "C-9q3n3L55EH"
      },
      "execution_count": 105,
      "outputs": []
    },
    {
      "cell_type": "code",
      "source": [
        "# ensure the clf parameters were set properly\n",
        "print(clf.get_params())"
      ],
      "metadata": {
        "colab": {
          "base_uri": "https://localhost:8080/"
        },
        "id": "IAH8-Z9YPMUP",
        "outputId": "70ce2531-93ca-41f1-bd41-82df7555f79c"
      },
      "execution_count": 106,
      "outputs": [
        {
          "output_type": "stream",
          "name": "stdout",
          "text": [
            "{'alpha': 0.0001, 'class_weight': None, 'early_stopping': False, 'eta0': 1, 'fit_intercept': True, 'l1_ratio': 0.15, 'max_iter': 10, 'n_iter_no_change': 5, 'n_jobs': None, 'penalty': None, 'random_state': 1729, 'shuffle': False, 'tol': 0.001, 'validation_fraction': 0.1, 'verbose': 0, 'warm_start': False}\n"
          ]
        }
      ]
    },
    {
      "cell_type": "code",
      "source": [
        "clf.fit(x_train1,y_train1)\n",
        "print('The value of the weight for the 69th feature is: ',clf.coef_[0,69])"
      ],
      "metadata": {
        "colab": {
          "base_uri": "https://localhost:8080/"
        },
        "id": "Ny0ODSvoSZiG",
        "outputId": "498bcd83-0c7e-4249-ecb6-8248cd26d553"
      },
      "execution_count": 107,
      "outputs": [
        {
          "output_type": "stream",
          "name": "stdout",
          "text": [
            "The value of the weight for the 69th feature is:  605.0\n"
          ]
        },
        {
          "output_type": "stream",
          "name": "stderr",
          "text": [
            "/usr/local/lib/python3.10/dist-packages/sklearn/linear_model/_stochastic_gradient.py:702: ConvergenceWarning: Maximum number of iteration reached before convergence. Consider increasing max_iter to improve the fit.\n",
            "  warnings.warn(\n"
          ]
        }
      ]
    },
    {
      "cell_type": "code",
      "source": [
        "x_train1 == new_X1_train"
      ],
      "metadata": {
        "id": "TUQrVNx_j3KE",
        "colab": {
          "base_uri": "https://localhost:8080/",
          "height": 443
        },
        "outputId": "009b067e-a39f-4951-8c6a-f7892c4b32a3"
      },
      "execution_count": 108,
      "outputs": [
        {
          "output_type": "execute_result",
          "data": {
            "text/plain": [
              "      pixel1  pixel2  pixel3  pixel4  pixel5  pixel6  pixel7  pixel8  pixel9  \\\n",
              "8826    True    True    True    True    True    True    True    True    True   \n",
              "6589    True    True    True    True    True    True    True    True    True   \n",
              "4090    True    True    True    True    True    True    True    True    True   \n",
              "601     True    True    True    True    True    True    True    True    True   \n",
              "826     True    True    True    True    True    True    True    True    True   \n",
              "...      ...     ...     ...     ...     ...     ...     ...     ...     ...   \n",
              "1167    True    True    True    True    True    True    True    True    True   \n",
              "2924    True    True    True    True    True    True    True    True    True   \n",
              "8621    True    True    True    True    True    True    True    True    True   \n",
              "4466    True    True    True    True    True    True    True    True    True   \n",
              "1138    True    True    True    True    True    True    True    True    True   \n",
              "\n",
              "      pixel10  ...  pixel775  pixel776  pixel777  pixel778  pixel779  \\\n",
              "8826     True  ...      True      True      True      True      True   \n",
              "6589     True  ...      True      True      True      True      True   \n",
              "4090     True  ...      True      True      True      True      True   \n",
              "601      True  ...      True      True      True      True      True   \n",
              "826      True  ...      True      True      True      True      True   \n",
              "...       ...  ...       ...       ...       ...       ...       ...   \n",
              "1167     True  ...      True      True      True      True      True   \n",
              "2924     True  ...      True      True      True      True      True   \n",
              "8621     True  ...      True      True      True      True      True   \n",
              "4466     True  ...      True      True      True      True      True   \n",
              "1138     True  ...      True      True      True      True      True   \n",
              "\n",
              "      pixel780  pixel781  pixel782  pixel783  pixel784  \n",
              "8826      True      True      True      True      True  \n",
              "6589      True      True      True      True      True  \n",
              "4090      True      True      True      True      True  \n",
              "601       True      True      True      True      True  \n",
              "826       True      True      True      True      True  \n",
              "...        ...       ...       ...       ...       ...  \n",
              "1167      True      True      True      True      True  \n",
              "2924      True      True      True      True      True  \n",
              "8621      True      True      True      True      True  \n",
              "4466      True      True      True      True      True  \n",
              "1138      True      True      True      True      True  \n",
              "\n",
              "[1992 rows x 784 columns]"
            ],
            "text/html": [
              "\n",
              "  <div id=\"df-5cda3f80-ea3d-459f-b76f-28fa08cf7be9\" class=\"colab-df-container\">\n",
              "    <div>\n",
              "<style scoped>\n",
              "    .dataframe tbody tr th:only-of-type {\n",
              "        vertical-align: middle;\n",
              "    }\n",
              "\n",
              "    .dataframe tbody tr th {\n",
              "        vertical-align: top;\n",
              "    }\n",
              "\n",
              "    .dataframe thead th {\n",
              "        text-align: right;\n",
              "    }\n",
              "</style>\n",
              "<table border=\"1\" class=\"dataframe\">\n",
              "  <thead>\n",
              "    <tr style=\"text-align: right;\">\n",
              "      <th></th>\n",
              "      <th>pixel1</th>\n",
              "      <th>pixel2</th>\n",
              "      <th>pixel3</th>\n",
              "      <th>pixel4</th>\n",
              "      <th>pixel5</th>\n",
              "      <th>pixel6</th>\n",
              "      <th>pixel7</th>\n",
              "      <th>pixel8</th>\n",
              "      <th>pixel9</th>\n",
              "      <th>pixel10</th>\n",
              "      <th>...</th>\n",
              "      <th>pixel775</th>\n",
              "      <th>pixel776</th>\n",
              "      <th>pixel777</th>\n",
              "      <th>pixel778</th>\n",
              "      <th>pixel779</th>\n",
              "      <th>pixel780</th>\n",
              "      <th>pixel781</th>\n",
              "      <th>pixel782</th>\n",
              "      <th>pixel783</th>\n",
              "      <th>pixel784</th>\n",
              "    </tr>\n",
              "  </thead>\n",
              "  <tbody>\n",
              "    <tr>\n",
              "      <th>8826</th>\n",
              "      <td>True</td>\n",
              "      <td>True</td>\n",
              "      <td>True</td>\n",
              "      <td>True</td>\n",
              "      <td>True</td>\n",
              "      <td>True</td>\n",
              "      <td>True</td>\n",
              "      <td>True</td>\n",
              "      <td>True</td>\n",
              "      <td>True</td>\n",
              "      <td>...</td>\n",
              "      <td>True</td>\n",
              "      <td>True</td>\n",
              "      <td>True</td>\n",
              "      <td>True</td>\n",
              "      <td>True</td>\n",
              "      <td>True</td>\n",
              "      <td>True</td>\n",
              "      <td>True</td>\n",
              "      <td>True</td>\n",
              "      <td>True</td>\n",
              "    </tr>\n",
              "    <tr>\n",
              "      <th>6589</th>\n",
              "      <td>True</td>\n",
              "      <td>True</td>\n",
              "      <td>True</td>\n",
              "      <td>True</td>\n",
              "      <td>True</td>\n",
              "      <td>True</td>\n",
              "      <td>True</td>\n",
              "      <td>True</td>\n",
              "      <td>True</td>\n",
              "      <td>True</td>\n",
              "      <td>...</td>\n",
              "      <td>True</td>\n",
              "      <td>True</td>\n",
              "      <td>True</td>\n",
              "      <td>True</td>\n",
              "      <td>True</td>\n",
              "      <td>True</td>\n",
              "      <td>True</td>\n",
              "      <td>True</td>\n",
              "      <td>True</td>\n",
              "      <td>True</td>\n",
              "    </tr>\n",
              "    <tr>\n",
              "      <th>4090</th>\n",
              "      <td>True</td>\n",
              "      <td>True</td>\n",
              "      <td>True</td>\n",
              "      <td>True</td>\n",
              "      <td>True</td>\n",
              "      <td>True</td>\n",
              "      <td>True</td>\n",
              "      <td>True</td>\n",
              "      <td>True</td>\n",
              "      <td>True</td>\n",
              "      <td>...</td>\n",
              "      <td>True</td>\n",
              "      <td>True</td>\n",
              "      <td>True</td>\n",
              "      <td>True</td>\n",
              "      <td>True</td>\n",
              "      <td>True</td>\n",
              "      <td>True</td>\n",
              "      <td>True</td>\n",
              "      <td>True</td>\n",
              "      <td>True</td>\n",
              "    </tr>\n",
              "    <tr>\n",
              "      <th>601</th>\n",
              "      <td>True</td>\n",
              "      <td>True</td>\n",
              "      <td>True</td>\n",
              "      <td>True</td>\n",
              "      <td>True</td>\n",
              "      <td>True</td>\n",
              "      <td>True</td>\n",
              "      <td>True</td>\n",
              "      <td>True</td>\n",
              "      <td>True</td>\n",
              "      <td>...</td>\n",
              "      <td>True</td>\n",
              "      <td>True</td>\n",
              "      <td>True</td>\n",
              "      <td>True</td>\n",
              "      <td>True</td>\n",
              "      <td>True</td>\n",
              "      <td>True</td>\n",
              "      <td>True</td>\n",
              "      <td>True</td>\n",
              "      <td>True</td>\n",
              "    </tr>\n",
              "    <tr>\n",
              "      <th>826</th>\n",
              "      <td>True</td>\n",
              "      <td>True</td>\n",
              "      <td>True</td>\n",
              "      <td>True</td>\n",
              "      <td>True</td>\n",
              "      <td>True</td>\n",
              "      <td>True</td>\n",
              "      <td>True</td>\n",
              "      <td>True</td>\n",
              "      <td>True</td>\n",
              "      <td>...</td>\n",
              "      <td>True</td>\n",
              "      <td>True</td>\n",
              "      <td>True</td>\n",
              "      <td>True</td>\n",
              "      <td>True</td>\n",
              "      <td>True</td>\n",
              "      <td>True</td>\n",
              "      <td>True</td>\n",
              "      <td>True</td>\n",
              "      <td>True</td>\n",
              "    </tr>\n",
              "    <tr>\n",
              "      <th>...</th>\n",
              "      <td>...</td>\n",
              "      <td>...</td>\n",
              "      <td>...</td>\n",
              "      <td>...</td>\n",
              "      <td>...</td>\n",
              "      <td>...</td>\n",
              "      <td>...</td>\n",
              "      <td>...</td>\n",
              "      <td>...</td>\n",
              "      <td>...</td>\n",
              "      <td>...</td>\n",
              "      <td>...</td>\n",
              "      <td>...</td>\n",
              "      <td>...</td>\n",
              "      <td>...</td>\n",
              "      <td>...</td>\n",
              "      <td>...</td>\n",
              "      <td>...</td>\n",
              "      <td>...</td>\n",
              "      <td>...</td>\n",
              "      <td>...</td>\n",
              "    </tr>\n",
              "    <tr>\n",
              "      <th>1167</th>\n",
              "      <td>True</td>\n",
              "      <td>True</td>\n",
              "      <td>True</td>\n",
              "      <td>True</td>\n",
              "      <td>True</td>\n",
              "      <td>True</td>\n",
              "      <td>True</td>\n",
              "      <td>True</td>\n",
              "      <td>True</td>\n",
              "      <td>True</td>\n",
              "      <td>...</td>\n",
              "      <td>True</td>\n",
              "      <td>True</td>\n",
              "      <td>True</td>\n",
              "      <td>True</td>\n",
              "      <td>True</td>\n",
              "      <td>True</td>\n",
              "      <td>True</td>\n",
              "      <td>True</td>\n",
              "      <td>True</td>\n",
              "      <td>True</td>\n",
              "    </tr>\n",
              "    <tr>\n",
              "      <th>2924</th>\n",
              "      <td>True</td>\n",
              "      <td>True</td>\n",
              "      <td>True</td>\n",
              "      <td>True</td>\n",
              "      <td>True</td>\n",
              "      <td>True</td>\n",
              "      <td>True</td>\n",
              "      <td>True</td>\n",
              "      <td>True</td>\n",
              "      <td>True</td>\n",
              "      <td>...</td>\n",
              "      <td>True</td>\n",
              "      <td>True</td>\n",
              "      <td>True</td>\n",
              "      <td>True</td>\n",
              "      <td>True</td>\n",
              "      <td>True</td>\n",
              "      <td>True</td>\n",
              "      <td>True</td>\n",
              "      <td>True</td>\n",
              "      <td>True</td>\n",
              "    </tr>\n",
              "    <tr>\n",
              "      <th>8621</th>\n",
              "      <td>True</td>\n",
              "      <td>True</td>\n",
              "      <td>True</td>\n",
              "      <td>True</td>\n",
              "      <td>True</td>\n",
              "      <td>True</td>\n",
              "      <td>True</td>\n",
              "      <td>True</td>\n",
              "      <td>True</td>\n",
              "      <td>True</td>\n",
              "      <td>...</td>\n",
              "      <td>True</td>\n",
              "      <td>True</td>\n",
              "      <td>True</td>\n",
              "      <td>True</td>\n",
              "      <td>True</td>\n",
              "      <td>True</td>\n",
              "      <td>True</td>\n",
              "      <td>True</td>\n",
              "      <td>True</td>\n",
              "      <td>True</td>\n",
              "    </tr>\n",
              "    <tr>\n",
              "      <th>4466</th>\n",
              "      <td>True</td>\n",
              "      <td>True</td>\n",
              "      <td>True</td>\n",
              "      <td>True</td>\n",
              "      <td>True</td>\n",
              "      <td>True</td>\n",
              "      <td>True</td>\n",
              "      <td>True</td>\n",
              "      <td>True</td>\n",
              "      <td>True</td>\n",
              "      <td>...</td>\n",
              "      <td>True</td>\n",
              "      <td>True</td>\n",
              "      <td>True</td>\n",
              "      <td>True</td>\n",
              "      <td>True</td>\n",
              "      <td>True</td>\n",
              "      <td>True</td>\n",
              "      <td>True</td>\n",
              "      <td>True</td>\n",
              "      <td>True</td>\n",
              "    </tr>\n",
              "    <tr>\n",
              "      <th>1138</th>\n",
              "      <td>True</td>\n",
              "      <td>True</td>\n",
              "      <td>True</td>\n",
              "      <td>True</td>\n",
              "      <td>True</td>\n",
              "      <td>True</td>\n",
              "      <td>True</td>\n",
              "      <td>True</td>\n",
              "      <td>True</td>\n",
              "      <td>True</td>\n",
              "      <td>...</td>\n",
              "      <td>True</td>\n",
              "      <td>True</td>\n",
              "      <td>True</td>\n",
              "      <td>True</td>\n",
              "      <td>True</td>\n",
              "      <td>True</td>\n",
              "      <td>True</td>\n",
              "      <td>True</td>\n",
              "      <td>True</td>\n",
              "      <td>True</td>\n",
              "    </tr>\n",
              "  </tbody>\n",
              "</table>\n",
              "<p>1992 rows × 784 columns</p>\n",
              "</div>\n",
              "    <div class=\"colab-df-buttons\">\n",
              "\n",
              "  <div class=\"colab-df-container\">\n",
              "    <button class=\"colab-df-convert\" onclick=\"convertToInteractive('df-5cda3f80-ea3d-459f-b76f-28fa08cf7be9')\"\n",
              "            title=\"Convert this dataframe to an interactive table.\"\n",
              "            style=\"display:none;\">\n",
              "\n",
              "  <svg xmlns=\"http://www.w3.org/2000/svg\" height=\"24px\" viewBox=\"0 -960 960 960\">\n",
              "    <path d=\"M120-120v-720h720v720H120Zm60-500h600v-160H180v160Zm220 220h160v-160H400v160Zm0 220h160v-160H400v160ZM180-400h160v-160H180v160Zm440 0h160v-160H620v160ZM180-180h160v-160H180v160Zm440 0h160v-160H620v160Z\"/>\n",
              "  </svg>\n",
              "    </button>\n",
              "\n",
              "  <style>\n",
              "    .colab-df-container {\n",
              "      display:flex;\n",
              "      gap: 12px;\n",
              "    }\n",
              "\n",
              "    .colab-df-convert {\n",
              "      background-color: #E8F0FE;\n",
              "      border: none;\n",
              "      border-radius: 50%;\n",
              "      cursor: pointer;\n",
              "      display: none;\n",
              "      fill: #1967D2;\n",
              "      height: 32px;\n",
              "      padding: 0 0 0 0;\n",
              "      width: 32px;\n",
              "    }\n",
              "\n",
              "    .colab-df-convert:hover {\n",
              "      background-color: #E2EBFA;\n",
              "      box-shadow: 0px 1px 2px rgba(60, 64, 67, 0.3), 0px 1px 3px 1px rgba(60, 64, 67, 0.15);\n",
              "      fill: #174EA6;\n",
              "    }\n",
              "\n",
              "    .colab-df-buttons div {\n",
              "      margin-bottom: 4px;\n",
              "    }\n",
              "\n",
              "    [theme=dark] .colab-df-convert {\n",
              "      background-color: #3B4455;\n",
              "      fill: #D2E3FC;\n",
              "    }\n",
              "\n",
              "    [theme=dark] .colab-df-convert:hover {\n",
              "      background-color: #434B5C;\n",
              "      box-shadow: 0px 1px 3px 1px rgba(0, 0, 0, 0.15);\n",
              "      filter: drop-shadow(0px 1px 2px rgba(0, 0, 0, 0.3));\n",
              "      fill: #FFFFFF;\n",
              "    }\n",
              "  </style>\n",
              "\n",
              "    <script>\n",
              "      const buttonEl =\n",
              "        document.querySelector('#df-5cda3f80-ea3d-459f-b76f-28fa08cf7be9 button.colab-df-convert');\n",
              "      buttonEl.style.display =\n",
              "        google.colab.kernel.accessAllowed ? 'block' : 'none';\n",
              "\n",
              "      async function convertToInteractive(key) {\n",
              "        const element = document.querySelector('#df-5cda3f80-ea3d-459f-b76f-28fa08cf7be9');\n",
              "        const dataTable =\n",
              "          await google.colab.kernel.invokeFunction('convertToInteractive',\n",
              "                                                    [key], {});\n",
              "        if (!dataTable) return;\n",
              "\n",
              "        const docLinkHtml = 'Like what you see? Visit the ' +\n",
              "          '<a target=\"_blank\" href=https://colab.research.google.com/notebooks/data_table.ipynb>data table notebook</a>'\n",
              "          + ' to learn more about interactive tables.';\n",
              "        element.innerHTML = '';\n",
              "        dataTable['output_type'] = 'display_data';\n",
              "        await google.colab.output.renderOutput(dataTable, element);\n",
              "        const docLink = document.createElement('div');\n",
              "        docLink.innerHTML = docLinkHtml;\n",
              "        element.appendChild(docLink);\n",
              "      }\n",
              "    </script>\n",
              "  </div>\n",
              "\n",
              "\n",
              "<div id=\"df-be8a8da8-206d-428b-b4a0-d809658bb90e\">\n",
              "  <button class=\"colab-df-quickchart\" onclick=\"quickchart('df-be8a8da8-206d-428b-b4a0-d809658bb90e')\"\n",
              "            title=\"Suggest charts\"\n",
              "            style=\"display:none;\">\n",
              "\n",
              "<svg xmlns=\"http://www.w3.org/2000/svg\" height=\"24px\"viewBox=\"0 0 24 24\"\n",
              "     width=\"24px\">\n",
              "    <g>\n",
              "        <path d=\"M19 3H5c-1.1 0-2 .9-2 2v14c0 1.1.9 2 2 2h14c1.1 0 2-.9 2-2V5c0-1.1-.9-2-2-2zM9 17H7v-7h2v7zm4 0h-2V7h2v10zm4 0h-2v-4h2v4z\"/>\n",
              "    </g>\n",
              "</svg>\n",
              "  </button>\n",
              "\n",
              "<style>\n",
              "  .colab-df-quickchart {\n",
              "      --bg-color: #E8F0FE;\n",
              "      --fill-color: #1967D2;\n",
              "      --hover-bg-color: #E2EBFA;\n",
              "      --hover-fill-color: #174EA6;\n",
              "      --disabled-fill-color: #AAA;\n",
              "      --disabled-bg-color: #DDD;\n",
              "  }\n",
              "\n",
              "  [theme=dark] .colab-df-quickchart {\n",
              "      --bg-color: #3B4455;\n",
              "      --fill-color: #D2E3FC;\n",
              "      --hover-bg-color: #434B5C;\n",
              "      --hover-fill-color: #FFFFFF;\n",
              "      --disabled-bg-color: #3B4455;\n",
              "      --disabled-fill-color: #666;\n",
              "  }\n",
              "\n",
              "  .colab-df-quickchart {\n",
              "    background-color: var(--bg-color);\n",
              "    border: none;\n",
              "    border-radius: 50%;\n",
              "    cursor: pointer;\n",
              "    display: none;\n",
              "    fill: var(--fill-color);\n",
              "    height: 32px;\n",
              "    padding: 0;\n",
              "    width: 32px;\n",
              "  }\n",
              "\n",
              "  .colab-df-quickchart:hover {\n",
              "    background-color: var(--hover-bg-color);\n",
              "    box-shadow: 0 1px 2px rgba(60, 64, 67, 0.3), 0 1px 3px 1px rgba(60, 64, 67, 0.15);\n",
              "    fill: var(--button-hover-fill-color);\n",
              "  }\n",
              "\n",
              "  .colab-df-quickchart-complete:disabled,\n",
              "  .colab-df-quickchart-complete:disabled:hover {\n",
              "    background-color: var(--disabled-bg-color);\n",
              "    fill: var(--disabled-fill-color);\n",
              "    box-shadow: none;\n",
              "  }\n",
              "\n",
              "  .colab-df-spinner {\n",
              "    border: 2px solid var(--fill-color);\n",
              "    border-color: transparent;\n",
              "    border-bottom-color: var(--fill-color);\n",
              "    animation:\n",
              "      spin 1s steps(1) infinite;\n",
              "  }\n",
              "\n",
              "  @keyframes spin {\n",
              "    0% {\n",
              "      border-color: transparent;\n",
              "      border-bottom-color: var(--fill-color);\n",
              "      border-left-color: var(--fill-color);\n",
              "    }\n",
              "    20% {\n",
              "      border-color: transparent;\n",
              "      border-left-color: var(--fill-color);\n",
              "      border-top-color: var(--fill-color);\n",
              "    }\n",
              "    30% {\n",
              "      border-color: transparent;\n",
              "      border-left-color: var(--fill-color);\n",
              "      border-top-color: var(--fill-color);\n",
              "      border-right-color: var(--fill-color);\n",
              "    }\n",
              "    40% {\n",
              "      border-color: transparent;\n",
              "      border-right-color: var(--fill-color);\n",
              "      border-top-color: var(--fill-color);\n",
              "    }\n",
              "    60% {\n",
              "      border-color: transparent;\n",
              "      border-right-color: var(--fill-color);\n",
              "    }\n",
              "    80% {\n",
              "      border-color: transparent;\n",
              "      border-right-color: var(--fill-color);\n",
              "      border-bottom-color: var(--fill-color);\n",
              "    }\n",
              "    90% {\n",
              "      border-color: transparent;\n",
              "      border-bottom-color: var(--fill-color);\n",
              "    }\n",
              "  }\n",
              "</style>\n",
              "\n",
              "  <script>\n",
              "    async function quickchart(key) {\n",
              "      const quickchartButtonEl =\n",
              "        document.querySelector('#' + key + ' button');\n",
              "      quickchartButtonEl.disabled = true;  // To prevent multiple clicks.\n",
              "      quickchartButtonEl.classList.add('colab-df-spinner');\n",
              "      try {\n",
              "        const charts = await google.colab.kernel.invokeFunction(\n",
              "            'suggestCharts', [key], {});\n",
              "      } catch (error) {\n",
              "        console.error('Error during call to suggestCharts:', error);\n",
              "      }\n",
              "      quickchartButtonEl.classList.remove('colab-df-spinner');\n",
              "      quickchartButtonEl.classList.add('colab-df-quickchart-complete');\n",
              "    }\n",
              "    (() => {\n",
              "      let quickchartButtonEl =\n",
              "        document.querySelector('#df-be8a8da8-206d-428b-b4a0-d809658bb90e button');\n",
              "      quickchartButtonEl.style.display =\n",
              "        google.colab.kernel.accessAllowed ? 'block' : 'none';\n",
              "    })();\n",
              "  </script>\n",
              "</div>\n",
              "    </div>\n",
              "  </div>\n"
            ]
          },
          "metadata": {},
          "execution_count": 108
        }
      ]
    },
    {
      "cell_type": "markdown",
      "source": [
        "## Que 6.\n",
        "[2 points] With respective to the above question and for the same settings.<br>\n",
        "Which of the following is the sequence of bias (intercept) updates for the first 5 epochs?\n",
        "\n",
        " Options:\n",
        "\n",
        " 1. [-1.0, -4.0, -4.0, -6.0, -5.0]\n",
        " 2. [-1.0, -6.0, -4.0, -6.0, -5.0]\n",
        " 3. [-1.0, -6.0, -6.0, -6.0, -5.0]\n",
        " 4. [-1.0, -4.0, -4.0, -5.0, -5.0]\n",
        "\n",
        "**Ans:1**"
      ],
      "metadata": {
        "id": "ut_CLP4BTOPV"
      }
    },
    {
      "cell_type": "markdown",
      "source": [
        "**Solution:**"
      ],
      "metadata": {
        "id": "T3SqzWEEV1y4"
      }
    },
    {
      "cell_type": "code",
      "source": [
        "clf = Perceptron(random_state=1729,\n",
        "                 eta0=1,max_iter=1,\n",
        "                 shuffle=False,\n",
        "                 validation_fraction=0.1,\n",
        "                 fit_intercept=True,\n",
        "                 penalty=None,\n",
        "                 warm_start=False)"
      ],
      "metadata": {
        "id": "fWYBzIkmTzXG"
      },
      "execution_count": null,
      "outputs": []
    },
    {
      "cell_type": "code",
      "source": [
        "updates = []\n",
        "for i in range(5):\n",
        "  clf.partial_fit(x_train1,y_train1,classes=np.unique(y_train1))\n",
        "  updates.append(clf.intercept_[0])\n",
        "print('The sequence of bias updates: ',updates)"
      ],
      "metadata": {
        "colab": {
          "base_uri": "https://localhost:8080/"
        },
        "id": "uNHDofK0BVZN",
        "outputId": "79320117-c800-4c8f-b4c8-62c5c5dba2d3"
      },
      "execution_count": null,
      "outputs": [
        {
          "output_type": "stream",
          "name": "stdout",
          "text": [
            "The sequence of bias updates:  [-1.0, -4.0, -4.0, -6.0, -5.0]\n"
          ]
        }
      ]
    },
    {
      "cell_type": "markdown",
      "source": [
        "# Graded Questions\n",
        "\n",
        "Question Group: 22T1_MLP_W5_PG\n",
        "\n",
        "Total # of questiosn: 10"
      ],
      "metadata": {
        "id": "-Lsm0LVPd_pI"
      }
    },
    {
      "cell_type": "markdown",
      "source": [
        "##(Common data for all the graded questions)\n",
        "\n",
        "From the MNIST dataset, create a new dataset by taking first 10000  images for training and next 2000 images for testing.\n",
        "- Collect all digit-5 (Positive class) and digit-3 (Negative class) images and stack them properly as a single datamatrix.\n",
        "- By convention, keep all digit-5 images from index 0 to i followed by digit-3 images from index i+1 to n (i denotes the end index of digit-5 images)\n",
        "- Similarly, collect the respective labels and store it in a variable (Do sanity check).\n",
        "- Set the label values to 1 for positive class and -1 for negative class.\n",
        "- Instantiate a perceptron classifier with the below parameters\n",
        "  * random_state = 42\n",
        "  * learning rate = 1\n",
        "  * Train for 100 iterations (epoch)\n",
        "  * Should shuffle the dataset for each epoch (iteration)\n",
        "  * Include the intercept (bias) term.\n",
        "  * No regularization <br>\n",
        "\n",
        "Use the training set for fitting the perceptron model and use the test data to make the predictions.\n",
        "Answer the below questions."
      ],
      "metadata": {
        "id": "cfdXi3Eq645n"
      }
    },
    {
      "cell_type": "markdown",
      "source": [
        "## Que 1.\n",
        "[2 points] Which of the following is a pair that gives the number of training samples for digit 5 and digit 3?\n",
        "\n",
        "Options : <br>\n",
        "\n",
        "1. (1014, 1032)\n",
        "2. (980, 991)\n",
        "3. (863, 1032)\n",
        "4. (863, 991)\n",
        "\n",
        "**Ans: 3**\n"
      ],
      "metadata": {
        "id": "j3-qs6dh-npv"
      }
    },
    {
      "cell_type": "markdown",
      "source": [
        "Solution:"
      ],
      "metadata": {
        "id": "6hlsctvniAkE"
      }
    },
    {
      "cell_type": "code",
      "source": [],
      "metadata": {
        "id": "AO8GVC28h_0O"
      },
      "execution_count": null,
      "outputs": []
    },
    {
      "cell_type": "markdown",
      "source": [
        "## Que 2.\n",
        "[2 points, (NAT)] Obtain confusion matrix for the test samples and the predicted samples. How many True Positives are there?\n",
        "\n",
        "**Ans: 173**\n",
        "\n",
        "\n",
        "   \n"
      ],
      "metadata": {
        "id": "s1i-_2OvXdaL"
      }
    },
    {
      "cell_type": "markdown",
      "source": [
        "## Que 3.\n",
        "[2 points, (NAT)] From the confusion matrix, answer how many True Negatives are there?\n",
        "\n",
        "\n",
        "**Ans: 190**\n",
        "\n",
        "   \n"
      ],
      "metadata": {
        "id": "1xY29WyxBKyO"
      }
    },
    {
      "cell_type": "markdown",
      "source": [
        "## Que 4.\n",
        "[2 points, (NAT)] From the confusion matrix, answer how many False Negatives are there?\n",
        "\n",
        "**Ans: 6**  \n"
      ],
      "metadata": {
        "id": "15IIjds6Bc9I"
      }
    },
    {
      "cell_type": "markdown",
      "source": [
        "## Que 5.\n",
        "[2 points, (NAT)] From the confusion matrix, answer how many False Positives are there?\n",
        "\n",
        "**Ans: 12**\n",
        "   \n"
      ],
      "metadata": {
        "id": "RFlXPeSIBheM"
      }
    },
    {
      "cell_type": "markdown",
      "source": [
        "## Que 6.\n",
        "[3 points, Multiple select] In the same model setup just change the  shuffle parameter to False, refit the classifier on training data, make predictions on test data and observe the accuracy, precision score and recall score. Which of the following statements are True based on your observations?\n",
        "\n",
        "Options: <br>\n",
        "\n",
        "1. The accuracy value remains same while `shuffle = True` and `shuffle = False`.\n",
        "2. The precision score value decreased after setting `shuffle = False`.\n",
        "3. The recall score value decreased after setting `shuffle = False`.\n",
        "4. The accuracy value increased after setting `shuffle = False`.\n",
        "5. The precision score value increased after setting `shuffle = False`.\n",
        "6. The recall score value increased after setting `shuffle = False`.\n",
        "7. The accuracy value decreased after setting  `shuffle = False`.\n",
        "\n",
        "      \n",
        "**Ans: 3, 5, 7**\n",
        "\n",
        "\n",
        "   \n"
      ],
      "metadata": {
        "id": "OnP-0CaTB5Ow"
      }
    },
    {
      "cell_type": "markdown",
      "source": [
        "**Solution**"
      ],
      "metadata": {
        "id": "eSCKdyqA75Iv"
      }
    },
    {
      "cell_type": "code",
      "source": [
        "x_train = X[:10000]\n",
        "x_test = X[10000:12000]\n",
        "y_train = y[:10000].astype(np.int8)\n",
        "y_test = y[10000:12000].astype(np.int8)\n",
        "train_uniq = np.unique(y_train)\n",
        "print('Unique classes in training set:',len(train_uniq))\n",
        "test_uniq = np.unique(y_test)\n",
        "print('Unique classes in testing set:',len(test_uniq))\n",
        "count,bins = np.histogram(y_train,bins=10)\n",
        "print(count)\n",
        "print('Number of samples for dig-5 are:',count[5])\n",
        "print('Number of samples for dig-3 are:',count[3])\n",
        "count,bins = np.histogram(y_test.astype(np.int8),bins=10)\n",
        "#print(count)\n",
        "max_cls = np.argmax(count)\n",
        "print('The class having more num of testing samples is: ',max_cls)\n",
        "\n",
        "# get the train index of dig 5 and dig_3\n",
        "dig_5_idx = np.where(y_train == 5)[0]\n",
        "dig_3_idx = np.where(y_train == 3)[0]\n",
        "index = np.concatenate((dig_5_idx,dig_3_idx),axis=0)\n",
        "# get all samples from the index array\n",
        "x_train1 = x_train[index,:]\n",
        "# create the label vector\n",
        "y_train1 = np.concatenate((np.ones(len(dig_5_idx)),-1*np.ones(len(dig_3_idx))))\n",
        "\n",
        "# get the test index of dig 5 and dig_3\n",
        "dig_5_idx1 = np.where(y_test == 5)[0]\n",
        "dig_3_idx1 = np.where(y_test == 3)[0]\n",
        "index1 = np.concatenate((dig_5_idx1,dig_3_idx1),axis=0)\n",
        "# get all samples from the index array\n",
        "x_test1 = x_test[index1,:]\n",
        "# create the label vector\n",
        "y_test1 = np.concatenate((np.ones(len(dig_5_idx1)),-1*np.ones(len(dig_3_idx1))))"
      ],
      "metadata": {
        "colab": {
          "base_uri": "https://localhost:8080/"
        },
        "id": "7UVGaACH5TOD",
        "outputId": "5671c4dc-8721-4d3e-f5de-e74b177796ea"
      },
      "execution_count": null,
      "outputs": [
        {
          "output_type": "stream",
          "name": "stdout",
          "text": [
            "Unique classes in training set: 10\n",
            "Unique classes in testing set: 10\n",
            "[1001 1127  991 1032  980  863 1014 1070  944  978]\n",
            "Number of samples for dig-5 are: 863\n",
            "Number of samples for dig-3 are: 1032\n",
            "The class having more num of testing samples is:  1\n"
          ]
        }
      ]
    },
    {
      "cell_type": "code",
      "source": [
        "from sklearn.metrics import ConfusionMatrixDisplay, accuracy_score, precision_score,recall_score\n",
        "from sklearn.linear_model import Perceptron\n",
        "\n",
        "clf = Perceptron(random_state=42,\n",
        "                 eta0=1,max_iter=100,\n",
        "                 shuffle=True,validation_fraction=0.1,\n",
        "                 fit_intercept=True,\n",
        "                 penalty=None,\n",
        "                 warm_start=False)\n",
        "\n",
        "clf.fit(x_train1,y_train1)\n",
        "\n",
        "y_pred1 = clf.predict(x_test1)\n",
        "cm_display = ConfusionMatrixDisplay.from_predictions(y_test1,y_pred1,values_format='.5g')\n",
        "print('A', accuracy_score(y_test1,y_pred1))\n",
        "print('P', precision_score(y_test1,y_pred1))\n",
        "print('R', recall_score(y_test1,y_pred1))\n",
        "\n",
        "plt.show()"
      ],
      "metadata": {
        "colab": {
          "base_uri": "https://localhost:8080/",
          "height": 331
        },
        "id": "Z0OS3GUFXbL-",
        "outputId": "c8228213-5893-481a-a65c-a69b9826b5d8"
      },
      "execution_count": null,
      "outputs": [
        {
          "output_type": "stream",
          "name": "stdout",
          "text": [
            "A 0.952755905511811\n",
            "P 0.9664804469273743\n",
            "R 0.9351351351351351\n"
          ]
        },
        {
          "output_type": "display_data",
          "data": {
            "text/plain": [
              "<Figure size 432x288 with 2 Axes>"
            ],
            "image/png": "[encoded data removed]"
          },
          "metadata": {
            "needs_background": "light"
          }
        }
      ]
    },
    {
      "cell_type": "code",
      "source": [
        "clf = Perceptron(random_state=42,\n",
        "                 eta0=1,max_iter=100,\n",
        "                 shuffle=False,\n",
        "                 validation_fraction=0.1,\n",
        "                 fit_intercept=True,\n",
        "                 penalty=None,\n",
        "                 warm_start=False)\n",
        "clf.fit(x_train1,y_train1)\n",
        "\n",
        "y_pred1 = clf.predict(x_test1)\n",
        "cm_display = ConfusionMatrixDisplay.from_predictions(y_test1,y_pred1,values_format='.5g')\n",
        "print('A', accuracy_score(y_test1,y_pred1))\n",
        "print('P', precision_score(y_test1,y_pred1))\n",
        "print('R', recall_score(y_test1,y_pred1))\n",
        "plt.show()"
      ],
      "metadata": {
        "colab": {
          "base_uri": "https://localhost:8080/",
          "height": 331
        },
        "id": "Ax60RpqvFaT3",
        "outputId": "251d8c72-93a2-42af-8fb4-df2f7527b844"
      },
      "execution_count": null,
      "outputs": [
        {
          "output_type": "stream",
          "name": "stdout",
          "text": [
            "A 0.5485564304461942\n",
            "P 1.0\n",
            "R 0.07027027027027027\n"
          ]
        },
        {
          "output_type": "display_data",
          "data": {
            "text/plain": [
              "<Figure size 432x288 with 2 Axes>"
            ],
            "image/png": "[encoded data removed]"
          },
          "metadata": {
            "needs_background": "light"
          }
        }
      ]
    },
    {
      "cell_type": "markdown",
      "source": [
        "## Que 7.\n",
        "\n",
        "[4 points] Apply linear PCA and reduce the dimention of the datapoints to 10. Set `n_components=10`, `random_state=1` for PCA. Train perceptron classifier with same settings (`shuffle = True`) and use the trained model to make predictions on test data. Which of the following option gives the correct values inferred from confusion matrix?\n",
        "\n",
        "Options: <br>\n",
        "\n",
        "1. (TP: 119, TN: 93, FP: 77, FN: 92)\n",
        "2. (TP: 119, TN: 93, FP: 92, FN: 77)\n",
        "3. (TP: 93, TN: 119, FP: 92, FN: 77)\n",
        "4. (TP: 93, TN: 119, FP: 77, FN: 92)\n",
        "\n",
        "**Ans: 2**"
      ],
      "metadata": {
        "id": "e_dyz6jCrpvA"
      }
    },
    {
      "cell_type": "markdown",
      "source": [
        "## Que 8.\n",
        "\n",
        "[3 points] Which of the following option gives the correct values for (accuracy_score, precision_score, recall_score)?\n",
        "\n",
        "Options: <br>\n",
        "\n",
        "1. (0.5564, 0.5470, 0.5027)\n",
        "2. (0.5027, 0.5314, 0.5490)\n",
        "3. (0.5180, 0.5381, 0.5370)\n",
        "4. (0.5301, 0.5180, 0.4648)\n",
        "\n",
        "**Ans: 1**"
      ],
      "metadata": {
        "id": "IMAeRbSSPr50"
      }
    },
    {
      "cell_type": "markdown",
      "source": [
        "**Solution**"
      ],
      "metadata": {
        "id": "YU-2a3KJLM0z"
      }
    },
    {
      "cell_type": "code",
      "source": [
        "from sklearn.decomposition import PCA\n",
        "from sklearn.metrics import classification_report\n",
        "\n",
        "pca = PCA(n_components=10,random_state=1)\n",
        "\n",
        "x_train1_reduced = pca.fit(x_train1).transform(x_train1)\n",
        "x_test1_reduced = pca.fit(x_test1).transform(x_test1)\n",
        "clf = Perceptron(random_state=42,\n",
        "                 eta0=1,max_iter=100,\n",
        "                 shuffle=True,\n",
        "                 validation_fraction=0.1,\n",
        "                 fit_intercept=True,\n",
        "                 penalty=None,\n",
        "                 warm_start=False)\n",
        "clf.fit(x_train1_reduced,y_train1)\n",
        "y_pred1 = clf.predict(x_test1_reduced)\n",
        "cm_display = ConfusionMatrixDisplay.from_predictions(y_test1,y_pred1,values_format='.5g')\n",
        "plt.show()\n",
        "print('A', accuracy_score(y_test1,y_pred1))\n",
        "print('P', precision_score(y_test1,y_pred1))\n",
        "print('R', recall_score(y_test1,y_pred1))"
      ],
      "metadata": {
        "id": "eH-kzD5svokT",
        "colab": {
          "base_uri": "https://localhost:8080/",
          "height": 331
        },
        "outputId": "9801d3df-3740-436a-d121-1a73785882d4"
      },
      "execution_count": null,
      "outputs": [
        {
          "output_type": "display_data",
          "data": {
            "text/plain": [
              "<Figure size 432x288 with 2 Axes>"
            ],
            "image/png": "[encoded data removed]"
          },
          "metadata": {
            "needs_background": "light"
          }
        },
        {
          "output_type": "stream",
          "name": "stdout",
          "text": [
            "A 0.5564304461942258\n",
            "P 0.5470588235294118\n",
            "R 0.5027027027027027\n"
          ]
        }
      ]
    },
    {
      "cell_type": "code",
      "source": [
        "x_train1.shape"
      ],
      "metadata": {
        "colab": {
          "base_uri": "https://localhost:8080/"
        },
        "id": "sTkjqgqLOqHJ",
        "outputId": "aa6c4e08-c683-41bb-fa22-b182eeb39f8c"
      },
      "execution_count": null,
      "outputs": [
        {
          "output_type": "execute_result",
          "data": {
            "text/plain": [
              "(1895, 784)"
            ]
          },
          "metadata": {},
          "execution_count": 15
        }
      ]
    },
    {
      "cell_type": "code",
      "source": [
        "from sklearn.decomposition import PCA\n",
        "from sklearn.metrics import classification_report\n",
        "from sklearn.base import clone\n",
        "p = pca.fit(x_train1)\n",
        "x_train1_resduced = p.transform(x_train1)\n",
        "x_test1_reduced =  p.transform(x_test1)\n",
        "clf1 = clone(clf)\n",
        "clf1.fit(x_train1_reduced,y_train1)\n",
        "y_pred1 = clf1.predict(x_test1_reduced)\n",
        "cm_display = ConfusionMatrixDisplay.from_predictions(y_test1,y_pred1,values_format='.5g')\n",
        "plt.show()\n",
        "print('A', accuracy_score(y_test1,y_pred1))\n",
        "print('P', precision_score(y_test1,y_pred1))\n",
        "print('R', recall_score(y_test1,y_pred1))"
      ],
      "metadata": {
        "colab": {
          "base_uri": "https://localhost:8080/",
          "height": 331
        },
        "id": "KHyFQz9KbG4Y",
        "outputId": "f887b760-e66f-4c63-d3c8-d221f2720b6a"
      },
      "execution_count": null,
      "outputs": [
        {
          "output_type": "display_data",
          "data": {
            "text/plain": [
              "<Figure size 432x288 with 2 Axes>"
            ],
            "image/png": "[encoded data removed]"
          },
          "metadata": {
            "needs_background": "light"
          }
        },
        {
          "output_type": "stream",
          "name": "stdout",
          "text": [
            "A 0.9212598425196851\n",
            "P 0.8934010152284264\n",
            "R 0.9513513513513514\n"
          ]
        }
      ]
    },
    {
      "cell_type": "code",
      "source": [
        "rng = np.random.RandomState(42)"
      ],
      "metadata": {
        "id": "o0RwRY-Sageo"
      },
      "execution_count": null,
      "outputs": []
    },
    {
      "cell_type": "code",
      "source": [
        "from sklearn.decomposition import PCA\n",
        "from sklearn.metrics import classification_report\n",
        "from sklearn.pipeline import make_pipeline\n",
        "\n",
        "pca = PCA(n_components=10,random_state=1)\n",
        "# x_train1_reduced = pca.fit(x_train1).transform(x_train1)\n",
        "# x_test1_reduced = pca.fit(x_test1).transform(x_test1)\n",
        "clf = Perceptron(random_state=42,\n",
        "                 eta0=1,max_iter=100,\n",
        "                 shuffle=True,\n",
        "                 validation_fraction=0.1,\n",
        "                 fit_intercept=True,\n",
        "                 penalty=None,\n",
        "                 warm_start=False)\n",
        "pipe = make_pipeline(pca,clf,verbose=1)\n",
        "pipe.fit(x_train1,y_train1)\n",
        "y_pred1 = pipe.predict(x_test1)\n",
        "cm_display = ConfusionMatrixDisplay.from_predictions(y_test1,y_pred1,values_format='.5g')\n",
        "plt.show()\n",
        "print('A', accuracy_score(y_test1,y_pred1))\n",
        "print('P', precision_score(y_test1,y_pred1))\n",
        "print('R', recall_score(y_test1,y_pred1))"
      ],
      "metadata": {
        "colab": {
          "base_uri": "https://localhost:8080/",
          "height": 366
        },
        "id": "mqg893knFbWJ",
        "outputId": "14835742-5954-4f31-fd3f-ea0bffd948f4"
      },
      "execution_count": null,
      "outputs": [
        {
          "output_type": "stream",
          "name": "stdout",
          "text": [
            "[Pipeline] ............... (step 1 of 2) Processing pca, total=   0.2s\n",
            "[Pipeline] ........ (step 2 of 2) Processing perceptron, total=   0.0s\n"
          ]
        },
        {
          "output_type": "display_data",
          "data": {
            "text/plain": [
              "<Figure size 432x288 with 2 Axes>"
            ],
            "image/png": "[encoded data removed]"
          },
          "metadata": {
            "needs_background": "light"
          }
        },
        {
          "output_type": "stream",
          "name": "stdout",
          "text": [
            "A 0.8713910761154856\n",
            "P 0.8333333333333334\n",
            "R 0.918918918918919\n"
          ]
        }
      ]
    },
    {
      "cell_type": "markdown",
      "source": [
        "## Que 9.\n",
        "[2 points]  In the same model setup after PCA reduction, now provide L2 regularization by setting `penalty = 'l2'` and regularization parameter value `alpha = 0.01`, refit the classifier on training data, make predictions on test data and observe the accuracy, precision score and recall score.\n",
        "Does regularization improved the accuracy, precision and recall score of the model?\n",
        "\n",
        "Options: <br>\n",
        "\n",
        "1. Yes\n",
        "2. No\n",
        "\n",
        "\n",
        "**Ans: 2**"
      ],
      "metadata": {
        "id": "cBnGa6_wL-D0"
      }
    },
    {
      "cell_type": "markdown",
      "source": [
        "**Solution:**"
      ],
      "metadata": {
        "id": "MRBxSWJoiJJz"
      }
    },
    {
      "cell_type": "code",
      "source": [
        "clf = Perceptron(random_state=rng,\n",
        "                 eta0=1,max_iter=100,\n",
        "                 alpha = 0.01,\n",
        "                 shuffle=True,\n",
        "                 validation_fraction=0.1,\n",
        "                 fit_intercept=True,\n",
        "                 penalty='l2')\n",
        "\n",
        "clf.fit(x_train1_reduced,y_train1)\n",
        "y_pred1 = clf.predict(x_test1_reduced)\n",
        "print('A', accuracy_score(y_test1,y_pred1))\n",
        "print('P', precision_score(y_test1,y_pred1))\n",
        "print('R', recall_score(y_test1,y_pred1))"
      ],
      "metadata": {
        "id": "ulkrqpwSL3Se",
        "colab": {
          "base_uri": "https://localhost:8080/"
        },
        "outputId": "c90dd8c4-8774-4fd3-ac9e-7875027cd29c"
      },
      "execution_count": null,
      "outputs": [
        {
          "output_type": "stream",
          "name": "stdout",
          "text": [
            "A 0.7480314960629921\n",
            "P 0.7542857142857143\n",
            "R 0.7135135135135136\n"
          ]
        }
      ]
    },
    {
      "cell_type": "markdown",
      "source": [
        "## Que 10.\n",
        "[2 points]  In the same model setup after PCA reduction, now provide L1 regularization by setting `penalty = 'l1'` and regularization parameter value `alpha = 0.01`, refit the classifier on training data, make predictions on test data and observe the accuracy, precision score and recall score.\n",
        "Does L1 regularization improve the accuracy,  precision and recall score compared to L2 regularization?\n",
        "\n",
        "Options:\n",
        "1. Yes\n",
        "2. No\n",
        "\n",
        "**Ans: 1**"
      ],
      "metadata": {
        "id": "t8hSoLQSQdGY"
      }
    },
    {
      "cell_type": "markdown",
      "source": [
        "**Solution:**"
      ],
      "metadata": {
        "id": "v_uW1_H8iHUX"
      }
    },
    {
      "cell_type": "code",
      "source": [
        "clf = Perceptron(random_state=42,\n",
        "                 eta0=1,max_iter=100,\n",
        "                 alpha = 0.01,\n",
        "                 shuffle=True,\n",
        "                 validation_fraction=0.1,\n",
        "                 fit_intercept=True,\n",
        "                 penalty='l1')\n",
        "\n",
        "clf.fit(x_train1_reduced,y_train1)\n",
        "y_pred1 = clf.predict(x_test1_reduced)\n",
        "print('A', accuracy_score(y_test1,y_pred1))\n",
        "print('P', precision_score(y_test1,y_pred1))\n",
        "print('R', recall_score(y_test1,y_pred1))"
      ],
      "metadata": {
        "id": "0-X_0VAuMoXu",
        "colab": {
          "base_uri": "https://localhost:8080/"
        },
        "outputId": "47c82dd7-9eba-40b0-cba2-14578eb9dc32"
      },
      "execution_count": null,
      "outputs": [
        {
          "output_type": "stream",
          "name": "stdout",
          "text": [
            "A 0.868766404199475\n",
            "P 0.8688524590163934\n",
            "R 0.8594594594594595\n"
          ]
        }
      ]
    }
  ]
}